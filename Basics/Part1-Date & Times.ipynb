{
 "cells": [
  {
   "cell_type": "markdown",
   "metadata": {},
   "source": [
    "# Intro to dates and times with pandas"
   ]
  },
  {
   "cell_type": "code",
   "execution_count": 57,
   "metadata": {},
   "outputs": [
    {
     "name": "stdout",
     "output_type": "stream",
     "text": [
      "numpy version : 1.14.0\n",
      "pandas version: 0.22.0\n"
     ]
    }
   ],
   "source": [
    "import pandas as pd\n",
    "import numpy as np\n",
    "print('numpy version : %s'%np.__version__)\n",
    "print('pandas version: %s'%pd.__version__)"
   ]
  },
  {
   "cell_type": "markdown",
   "metadata": {},
   "source": [
    "### Date Range"
   ]
  },
  {
   "cell_type": "code",
   "execution_count": 9,
   "metadata": {},
   "outputs": [
    {
     "data": {
      "text/plain": [
       "DatetimeIndex(['2016-12-31', '2017-12-31', '2018-12-31', '2019-12-31',\n",
       "               '2020-12-31'],\n",
       "              dtype='datetime64[ns]', freq='A-DEC')"
      ]
     },
     "execution_count": 9,
     "metadata": {},
     "output_type": "execute_result"
    }
   ],
   "source": [
    "# Specify the start date and the number of periods\n",
    "\n",
    "# simple syntax = pd.date_range('start_date, periods= , frequency = )\n",
    "rng = pd.date_range('2016 Jul 5', periods = 5, freq = 'Y')\n",
    "rng"
   ]
  },
  {
   "cell_type": "code",
   "execution_count": 13,
   "metadata": {},
   "outputs": [
    {
     "data": {
      "text/plain": [
       "DatetimeIndex(['2018-01-02', '2018-01-03', '2018-01-04', '2018-01-05',\n",
       "               '2018-01-06'],\n",
       "              dtype='datetime64[ns]', freq='D')"
      ]
     },
     "execution_count": 13,
     "metadata": {},
     "output_type": "execute_result"
    }
   ],
   "source": [
    "## Checking the supported formats\n",
    "## montly\n",
    "# rng = pd.date_range('2016-02-23', periods = 5, freq = 'M')\n",
    "# rng\n",
    "\n",
    "# Business days\n",
    "# rng = pd.date_range('2016/02/23', periods = 5, freq = 'B')\n",
    "# rng\n",
    "\n",
    "rng = pd.date_range('01/02/2018', periods = 5, freq = 'D')\n",
    "rng"
   ]
  },
  {
   "cell_type": "code",
   "execution_count": null,
   "metadata": {},
   "outputs": [],
   "source": [
    "#### Is '7/1/2016 in January or July?\n",
    "##Its January\n",
    "\n",
    "# The class of individual object held by data_range\n",
    "type(rng)"
   ]
  },
  {
   "cell_type": "markdown",
   "metadata": {},
   "source": [
    "### Time Stamps"
   ]
  },
  {
   "cell_type": "code",
   "execution_count": 15,
   "metadata": {},
   "outputs": [
    {
     "data": {
      "text/plain": [
       "Timestamp('2016-07-10 00:00:00')"
      ]
     },
     "execution_count": 15,
     "metadata": {},
     "output_type": "execute_result"
    }
   ],
   "source": [
    "# Time-stampas \n",
    "pd.Timestamp('2016-07-10')"
   ]
  },
  {
   "cell_type": "code",
   "execution_count": 16,
   "metadata": {},
   "outputs": [
    {
     "data": {
      "text/plain": [
       "Timestamp('2016-07-10 10:00:00')"
      ]
     },
     "execution_count": 16,
     "metadata": {},
     "output_type": "execute_result"
    }
   ],
   "source": [
    "pd.Timestamp('2016-07-10 10')"
   ]
  },
  {
   "cell_type": "code",
   "execution_count": 17,
   "metadata": {},
   "outputs": [
    {
     "data": {
      "text/plain": [
       "Timestamp('2016-07-10 10:15:00')"
      ]
     },
     "execution_count": 17,
     "metadata": {},
     "output_type": "execute_result"
    }
   ],
   "source": [
    "pd.Timestamp('2016-07-10 10:15')"
   ]
  },
  {
   "cell_type": "code",
   "execution_count": 30,
   "metadata": {},
   "outputs": [
    {
     "data": {
      "text/plain": [
       "Timestamp('2016-07-10 01:15:12.999999900')"
      ]
     },
     "execution_count": 30,
     "metadata": {},
     "output_type": "execute_result"
    }
   ],
   "source": [
    "# Check the amount of details that can be added\n",
    "pd.Timestamp('2016-07-10 1:15:12.9999999')"
   ]
  },
  {
   "cell_type": "code",
   "execution_count": null,
   "metadata": {},
   "outputs": [],
   "source": [
    "# Checking some of the properties of timestamps\n",
    "# hint: http://pandas.pydata.org/pandas-docs/stable/timeseries.html#time-date-components\n",
    "t = pd.Timestamp('2016-07-10 10:15')"
   ]
  },
  {
   "cell_type": "code",
   "execution_count": 32,
   "metadata": {},
   "outputs": [
    {
     "data": {
      "text/plain": [
       "4"
      ]
     },
     "execution_count": 32,
     "metadata": {},
     "output_type": "execute_result"
    }
   ],
   "source": [
    "ts = pd.Timestamp('2018/07/27')\n",
    "# Check the quarter \n",
    "ts.quarter\n",
    "# check the day\n",
    "ts.dayofweek"
   ]
  },
  {
   "cell_type": "code",
   "execution_count": 35,
   "metadata": {},
   "outputs": [
    {
     "name": "stdout",
     "output_type": "stream",
     "text": [
      "2018-07-27 00:00:00\n"
     ]
    },
    {
     "data": {
      "text/plain": [
       "Timestamp('2018-07-29 03:30:00')"
      ]
     },
     "execution_count": 35,
     "metadata": {},
     "output_type": "execute_result"
    }
   ],
   "source": [
    "# To use intervals we can use Timedelta\n",
    "\n",
    "ts = pd.Timestamp('2018-07-27')\n",
    "print(ts)\n",
    "# after adding an interval like say meet me after 2 days\n",
    "\n",
    "ts = ts + pd.Timedelta('2 days')\n",
    "ts\n",
    "\n",
    "#similarly \n",
    "ts = ts+ pd.Timedelta('3.5 hours')\n",
    "ts"
   ]
  },
  {
   "cell_type": "markdown",
   "metadata": {},
   "source": [
    "### Time Stamps - Intervals"
   ]
  },
  {
   "cell_type": "code",
   "execution_count": 41,
   "metadata": {},
   "outputs": [
    {
     "data": {
      "text/plain": [
       "True"
      ]
     },
     "execution_count": 41,
     "metadata": {},
     "output_type": "execute_result"
    }
   ],
   "source": [
    "p = pd.Period('2016-01') # only daily precision\n",
    "ts = pd.Timestamp('2016-01-05')\n",
    "\n",
    "# check if the timestamps lies within a given interval\n",
    "p.start_time <= ts and p.end_time > ts"
   ]
  },
  {
   "cell_type": "code",
   "execution_count": 23,
   "metadata": {},
   "outputs": [
    {
     "data": {
      "text/plain": [
       "Period('2016-01-01 10:10', 'T')"
      ]
     },
     "execution_count": 23,
     "metadata": {},
     "output_type": "execute_result"
    }
   ],
   "source": [
    "pd.Period('2016-01-01 10:10') # similar to time stamp"
   ]
  },
  {
   "cell_type": "code",
   "execution_count": 25,
   "metadata": {},
   "outputs": [
    {
     "data": {
      "text/plain": [
       "Period('2016-05-27', 'D')"
      ]
     },
     "execution_count": 25,
     "metadata": {},
     "output_type": "execute_result"
    }
   ],
   "source": [
    "# How can you make multiple time periods? \n",
    "pd.Period('2016-05-27')\n",
    "# Hint look for analogy with pd.date_range() above"
   ]
  },
  {
   "cell_type": "code",
   "execution_count": 51,
   "metadata": {},
   "outputs": [
    {
     "data": {
      "text/plain": [
       "PeriodIndex(['2019-07-27 10:15', '2019-07-27 11:15', '2019-07-27 12:15',\n",
       "             '2019-07-27 13:15', '2019-07-27 14:15', '2019-07-27 15:15',\n",
       "             '2019-07-27 16:15', '2019-07-27 17:15', '2019-07-27 18:15',\n",
       "             '2019-07-27 19:15', '2019-07-27 20:15', '2019-07-27 21:15',\n",
       "             '2019-07-27 22:15', '2019-07-27 23:15', '2019-07-28 00:15',\n",
       "             '2019-07-28 01:15', '2019-07-28 02:15', '2019-07-28 03:15',\n",
       "             '2019-07-28 04:15', '2019-07-28 05:15'],\n",
       "            dtype='period[60T]', freq='60T')"
      ]
     },
     "execution_count": 51,
     "metadata": {},
     "output_type": "execute_result"
    }
   ],
   "source": [
    "prd_rng = pd.period_range('2019-07-27 10:15', freq = '60T', periods = 20)\n",
    "prd_rng"
   ]
  },
  {
   "cell_type": "code",
   "execution_count": 52,
   "metadata": {},
   "outputs": [
    {
     "data": {
      "text/plain": [
       "PeriodIndex(['2019-07-27 00:00', '2019-07-27 01:00', '2019-07-27 02:00',\n",
       "             '2019-07-27 03:00', '2019-07-27 04:00', '2019-07-27 05:00',\n",
       "             '2019-07-27 06:00', '2019-07-27 07:00', '2019-07-27 08:00',\n",
       "             '2019-07-27 09:00', '2019-07-27 10:00', '2019-07-27 11:00',\n",
       "             '2019-07-27 12:00', '2019-07-27 13:00', '2019-07-27 14:00',\n",
       "             '2019-07-27 15:00', '2019-07-27 16:00', '2019-07-27 17:00',\n",
       "             '2019-07-27 18:00', '2019-07-27 19:00'],\n",
       "            dtype='period[H]', freq='H')"
      ]
     },
     "execution_count": 52,
     "metadata": {},
     "output_type": "execute_result"
    }
   ],
   "source": [
    "prd_rng = pd.period_range('2019-07-27', freq = 'H', periods = 20)\n",
    "prd_rng"
   ]
  },
  {
   "cell_type": "markdown",
   "metadata": {},
   "source": [
    "### Indexing with time objects"
   ]
  },
  {
   "cell_type": "code",
   "execution_count": 55,
   "metadata": {},
   "outputs": [
    {
     "name": "stdout",
     "output_type": "stream",
     "text": [
      "DatetimeIndex(['2018-07-12', '2018-07-13', '2018-07-14', '2018-07-15',\n",
      "               '2018-07-16'],\n",
      "              dtype='datetime64[ns]', freq='D')\n"
     ]
    },
    {
     "data": {
      "text/plain": [
       "2018-07-12    0\n",
       "2018-07-13    1\n",
       "2018-07-14    2\n",
       "2018-07-15    3\n",
       "2018-07-16    4\n",
       "Freq: D, dtype: int64"
      ]
     },
     "execution_count": 55,
     "metadata": {},
     "output_type": "execute_result"
    }
   ],
   "source": [
    "rng = pd.date_range('2018-07-12', periods = 20, freq = 'D')\n",
    "print(rng[:5])\n",
    "srs = pd.Series(range(len(rng)), index = rng)\n",
    "srs.head()"
   ]
  },
  {
   "cell_type": "code",
   "execution_count": 59,
   "metadata": {},
   "outputs": [
    {
     "data": {
      "text/plain": [
       "2018-01   -1.703967\n",
       "2018-05    0.111696\n",
       "2018-10   -2.391577\n",
       "Freq: M, dtype: float64"
      ]
     },
     "execution_count": 59,
     "metadata": {},
     "output_type": "execute_result"
    }
   ],
   "source": [
    "# Use time period indices, in cases where it makes more sense\n",
    "\n",
    "periods = [pd.Period('2018-01'), pd.Period('2018-05'), pd.Period('2018-10')]\n",
    "srs = pd.Series(np.random.randn(len(periods)), index = periods)\n",
    "srs"
   ]
  },
  {
   "cell_type": "code",
   "execution_count": 60,
   "metadata": {},
   "outputs": [
    {
     "data": {
      "text/plain": [
       "pandas.core.indexes.period.PeriodIndex"
      ]
     },
     "execution_count": 60,
     "metadata": {},
     "output_type": "execute_result"
    }
   ],
   "source": [
    "type(srs.index)"
   ]
  },
  {
   "cell_type": "code",
   "execution_count": 61,
   "metadata": {},
   "outputs": [
    {
     "data": {
      "text/plain": [
       "-1.7039672653601645"
      ]
     },
     "execution_count": 61,
     "metadata": {},
     "output_type": "execute_result"
    }
   ],
   "source": [
    "# accessing the values using the index function\n",
    "srs['2018-01']"
   ]
  },
  {
   "cell_type": "code",
   "execution_count": 64,
   "metadata": {},
   "outputs": [
    {
     "data": {
      "text/plain": [
       "2018-07-31    0\n",
       "2018-08-31    1\n",
       "2018-09-30    2\n",
       "2018-10-31    3\n",
       "2018-11-30    4\n",
       "2018-12-31    5\n",
       "2019-01-31    6\n",
       "2019-02-28    7\n",
       "2019-03-31    8\n",
       "2019-04-30    9\n",
       "Freq: M, dtype: int64"
      ]
     },
     "execution_count": 64,
     "metadata": {},
     "output_type": "execute_result"
    }
   ],
   "source": [
    "# convert timestamped data into period indices and vice-versa\n",
    "ts = pd.Series(range(10), pd.date_range('2018-7', freq = 'M', periods = 10))\n",
    "ts\n"
   ]
  },
  {
   "cell_type": "code",
   "execution_count": 65,
   "metadata": {},
   "outputs": [
    {
     "data": {
      "text/plain": [
       "<bound method Series.to_period of 2018-07-31    0\n",
       "2018-08-31    1\n",
       "2018-09-30    2\n",
       "2018-10-31    3\n",
       "2018-11-30    4\n",
       "2018-12-31    5\n",
       "2019-01-31    6\n",
       "2019-02-28    7\n",
       "2019-03-31    8\n",
       "2019-04-30    9\n",
       "Freq: M, dtype: int64>"
      ]
     },
     "execution_count": 65,
     "metadata": {},
     "output_type": "execute_result"
    }
   ],
   "source": [
    "ts_period = ts.to_period\n",
    "ts_period"
   ]
  },
  {
   "cell_type": "code",
   "execution_count": 87,
   "metadata": {},
   "outputs": [
    {
     "data": {
      "text/plain": [
       "2012-01-31   -2.109111\n",
       "2012-02-29   -0.387510\n",
       "2012-03-31    0.444284\n",
       "2012-04-30    0.316635\n",
       "2012-05-31    0.487436\n",
       "2012-06-30   -0.132979\n",
       "2012-07-31    1.336675\n",
       "2012-08-31    0.528230\n",
       "2012-09-30    0.274926\n",
       "2012-10-31   -1.234889\n",
       "dtype: float64"
      ]
     },
     "execution_count": 87,
     "metadata": {},
     "output_type": "execute_result"
    }
   ],
   "source": [
    "num_pers = 10\n",
    "\n",
    "ts = pd.date_range('2012-01-1', freq = 'M', periods = num_pers)\n",
    "ts = pd.Series(ts)\n",
    "data = pd.Series(np.random.randn(num_pers), index = ts)\n",
    "data\n"
   ]
  }
 ],
 "metadata": {
  "kernelspec": {
   "display_name": "Python 3",
   "language": "python",
   "name": "python3"
  },
  "language_info": {
   "codemirror_mode": {
    "name": "ipython",
    "version": 3
   },
   "file_extension": ".py",
   "mimetype": "text/x-python",
   "name": "python",
   "nbconvert_exporter": "python",
   "pygments_lexer": "ipython3",
   "version": "3.6.4"
  }
 },
 "nbformat": 4,
 "nbformat_minor": 2
}
