{
 "cells": [
  {
   "cell_type": "code",
   "execution_count": 3,
   "metadata": {},
   "outputs": [],
   "source": [
    "import numpy as np\n",
    "import pandas as pd"
   ]
  },
  {
   "cell_type": "code",
   "execution_count": 4,
   "metadata": {},
   "outputs": [
    {
     "data": {
      "text/plain": [
       "DatetimeIndex(['2010-03-03', '2010-03-04', '2010-03-05', '2010-03-06',\n",
       "               '2010-03-07', '2010-03-08', '2010-03-09', '2010-03-10',\n",
       "               '2010-03-11', '2010-03-12'],\n",
       "              dtype='datetime64[ns]', freq='D')"
      ]
     },
     "execution_count": 4,
     "metadata": {},
     "output_type": "execute_result"
    }
   ],
   "source": [
    "rng = pd.date_range('3/3/2010 00:00',periods = 10, freq = 'D')\n",
    "rng"
   ]
  },
  {
   "cell_type": "code",
   "execution_count": 5,
   "metadata": {},
   "outputs": [],
   "source": [
    "# to see the time zone\n",
    "rng.tz \n",
    "# It will give a blank result since there was no time zone that was specified"
   ]
  },
  {
   "cell_type": "code",
   "execution_count": 7,
   "metadata": {},
   "outputs": [
    {
     "data": {
      "text/plain": [
       "DatetimeIndex(['1994-12-31', '1995-12-31', '1996-12-31', '1997-12-31',\n",
       "               '1998-12-31', '1999-12-31', '2000-12-31', '2001-12-31',\n",
       "               '2002-12-31', '2003-12-31', '2004-12-31', '2005-12-31',\n",
       "               '2006-12-31', '2007-12-31', '2008-12-31', '2009-12-31',\n",
       "               '2010-12-31', '2011-12-31', '2012-12-31', '2013-12-31',\n",
       "               '2014-12-31', '2015-12-31', '2016-12-31', '2017-12-31'],\n",
       "              dtype='datetime64[ns, Europe/London]', freq='A-DEC')"
      ]
     },
     "execution_count": 7,
     "metadata": {},
     "output_type": "execute_result"
    }
   ],
   "source": [
    "rng_tz = pd.date_range('27/07/1994', periods = 24, freq = 'Y', tz = 'Europe/London')\n",
    "rng_tz"
   ]
  },
  {
   "cell_type": "code",
   "execution_count": 9,
   "metadata": {},
   "outputs": [
    {
     "name": "stdout",
     "output_type": "stream",
     "text": [
      "439\n",
      "592\n",
      "{'Australia/Yancowinna', 'Canada/Saskatchewan', 'America/Catamarca', 'Jamaica', 'GB-Eire', 'ROK', 'Atlantic/Faeroe', 'Etc/GMT+0', 'Etc/GMT-3', 'Asia/Macao', 'Cuba', 'Etc/GMT-0', 'Brazil/DeNoronha', 'America/Rosario', 'US/Aleutian', 'Australia/Victoria', 'Universal', 'America/Montreal', 'America/Ensenada', 'Australia/ACT', 'America/Atka', 'Etc/GMT+11', 'Etc/GMT+6', 'Etc/GMT-2', 'America/Shiprock', 'Portugal', 'Etc/GMT+9', 'America/Santa_Isabel', 'Asia/Calcutta', 'Asia/Harbin', 'Asia/Chungking', 'W-SU', 'GMT+0', 'Australia/NSW', 'NZ-CHAT', 'MET', 'Australia/North', 'Etc/Greenwich', 'Asia/Ulan_Bator', 'Australia/Tasmania', 'America/Buenos_Aires', 'US/Indiana-Starke', 'Etc/GMT-13', 'Asia/Kashgar', 'Etc/GMT+3', 'Asia/Tel_Aviv', 'Greenwich', 'Asia/Thimbu', 'Poland', 'Etc/GMT-14', 'US/Pacific-New', 'Etc/GMT0', 'Etc/GMT', 'Etc/GMT+7', 'Navajo', 'GB', 'Europe/Belfast', 'CET', 'Etc/GMT-10', 'US/Michigan', 'MST', 'Asia/Ashkhabad', 'Etc/GMT+1', 'Hongkong', 'Etc/UCT', 'Asia/Saigon', 'Brazil/East', 'Australia/LHI', 'Etc/GMT-12', 'HST', 'CST6CDT', 'Europe/Tiraspol', 'Asia/Dacca', 'Mexico/BajaSur', 'Australia/West', 'Kwajalein', 'Etc/GMT-6', 'Etc/GMT+8', 'Asia/Ujung_Pandang', 'US/Samoa', 'Pacific/Johnston', 'Etc/GMT-8', 'ROC', 'Africa/Asmera', 'Etc/UTC', 'America/Fort_Wayne', 'Mexico/General', 'America/Porto_Acre', 'America/Virgin', 'Iceland', 'Etc/GMT-11', 'Brazil/West', 'Europe/Nicosia', 'Zulu', 'Atlantic/Jan_Mayen', 'Etc/Universal', 'America/Jujuy', 'America/Louisville', 'Japan', 'MST7MDT', 'Brazil/Acre', 'UCT', 'EST', 'America/Indianapolis', 'EET', 'Etc/GMT+2', 'GMT0', 'Asia/Chongqing', 'Etc/GMT+4', 'WET', 'Etc/GMT-1', 'Iran', 'Israel', 'America/Mendoza', 'NZ', 'Asia/Rangoon', 'Antarctica/South_Pole', 'Chile/Continental', 'Eire', 'Etc/GMT-9', 'Etc/GMT-7', 'Pacific/Yap', 'America/Cordoba', 'Etc/GMT+12', 'Chile/EasterIsland', 'Etc/GMT+10', 'Australia/Canberra', 'Etc/GMT+5', 'America/Argentina/ComodRivadavia', 'America/Coral_Harbour', 'PRC', 'Etc/GMT-5', 'America/Knox_IN', 'Singapore', 'Pacific/Samoa', 'Mexico/BajaNorte', 'GMT-0', 'Libya', 'EST5EDT', 'Etc/GMT-4', 'Australia/South', 'PST8PDT', 'Australia/Queensland', 'Egypt', 'Pacific/Ponape', 'Asia/Istanbul', 'Africa/Timbuktu', 'US/East-Indiana', 'Pacific/Truk', 'Etc/Zulu', 'Turkey', 'Canada/Yukon', 'Asia/Katmandu'}\n"
     ]
    }
   ],
   "source": [
    "# to see all the available time zones\n",
    "\n",
    "from pytz import common_timezones, all_timezones\n",
    "\n",
    "print(len(common_timezones))\n",
    "print(len(all_timezones))\n",
    "print(set(all_timezones) - set(common_timezones))"
   ]
  },
  {
   "cell_type": "code",
   "execution_count": 10,
   "metadata": {},
   "outputs": [
    {
     "data": {
      "text/plain": [
       "Timestamp('2016-07-10 08:50:00')"
      ]
     },
     "execution_count": 10,
     "metadata": {},
     "output_type": "execute_result"
    }
   ],
   "source": [
    "# You can also localize a naive timestamp\n",
    "t_naive = pd.Timestamp('2016-07-10 08:50')\n",
    "t_naive"
   ]
  },
  {
   "cell_type": "code",
   "execution_count": 11,
   "metadata": {},
   "outputs": [
    {
     "data": {
      "text/plain": [
       "Timestamp('2016-07-10 08:50:00-0500', tz='US/Central')"
      ]
     },
     "execution_count": 11,
     "metadata": {},
     "output_type": "execute_result"
    }
   ],
   "source": [
    "t = t_naive.tz_localize(tz = 'US/Central')\n",
    "t\n"
   ]
  },
  {
   "cell_type": "code",
   "execution_count": 12,
   "metadata": {},
   "outputs": [
    {
     "data": {
      "text/plain": [
       "Timestamp('2016-07-10 22:50:00+0900', tz='Asia/Tokyo')"
      ]
     },
     "execution_count": 12,
     "metadata": {},
     "output_type": "execute_result"
    }
   ],
   "source": [
    "t.tz_convert('Asia/Tokyo')"
   ]
  },
  {
   "cell_type": "code",
   "execution_count": 13,
   "metadata": {},
   "outputs": [
    {
     "data": {
      "text/plain": [
       "2016-03-10 00:00:00-06:00    0\n",
       "2016-03-11 00:00:00-06:00    1\n",
       "2016-03-12 00:00:00-06:00    2\n",
       "2016-03-13 00:00:00-06:00    3\n",
       "2016-03-14 00:00:00-05:00    4\n",
       "2016-03-15 00:00:00-05:00    5\n",
       "2016-03-16 00:00:00-05:00    6\n",
       "2016-03-17 00:00:00-05:00    7\n",
       "2016-03-18 00:00:00-05:00    8\n",
       "2016-03-19 00:00:00-05:00    9\n",
       "Freq: D, dtype: int64"
      ]
     },
     "execution_count": 13,
     "metadata": {},
     "output_type": "execute_result"
    }
   ],
   "source": [
    "# handle daylight savings?\n",
    "rng = pd.date_range('2016-03-10', periods=10, tz='US/Central')\n",
    "ts = pd.Series(range(10), index=rng)\n",
    "ts"
   ]
  },
  {
   "cell_type": "code",
   "execution_count": 14,
   "metadata": {},
   "outputs": [
    {
     "data": {
      "text/plain": [
       "2016-03-10 00:00:00+00:00    0\n",
       "2016-03-11 00:00:00+00:00    1\n",
       "2016-03-12 00:00:00+00:00    2\n",
       "2016-03-13 00:00:00+00:00    3\n",
       "2016-03-14 00:00:00+00:00    4\n",
       "2016-03-15 00:00:00+00:00    5\n",
       "2016-03-16 00:00:00+00:00    6\n",
       "2016-03-17 00:00:00+00:00    7\n",
       "2016-03-18 00:00:00+00:00    8\n",
       "2016-03-19 00:00:00+00:00    9\n",
       "Freq: D, dtype: int64"
      ]
     },
     "execution_count": 14,
     "metadata": {},
     "output_type": "execute_result"
    }
   ],
   "source": [
    "rng = pd.date_range('2016-03-10', periods=10, tz='utc')\n",
    "ts = pd.Series(range(10), index=rng)\n",
    "ts"
   ]
  },
  {
   "cell_type": "code",
   "execution_count": 15,
   "metadata": {},
   "outputs": [
    {
     "data": {
      "text/plain": [
       "2016-03-09 18:00:00-06:00    0\n",
       "2016-03-10 18:00:00-06:00    1\n",
       "2016-03-11 18:00:00-06:00    2\n",
       "2016-03-12 18:00:00-06:00    3\n",
       "2016-03-13 19:00:00-05:00    4\n",
       "2016-03-14 19:00:00-05:00    5\n",
       "2016-03-15 19:00:00-05:00    6\n",
       "2016-03-16 19:00:00-05:00    7\n",
       "2016-03-17 19:00:00-05:00    8\n",
       "2016-03-18 19:00:00-05:00    9\n",
       "Freq: D, dtype: int64"
      ]
     },
     "execution_count": 15,
     "metadata": {},
     "output_type": "execute_result"
    }
   ],
   "source": [
    "ts.tz_convert('US/Central')"
   ]
  },
  {
   "cell_type": "code",
   "execution_count": 16,
   "metadata": {},
   "outputs": [
    {
     "data": {
      "text/plain": [
       "DatetimeIndex(['2016-03-12 22:00:00-05:00', '2016-03-12 23:00:00-05:00',\n",
       "               '2016-03-13 00:00:00-05:00', '2016-03-13 01:00:00-05:00',\n",
       "               '2016-03-13 03:00:00-04:00', '2016-03-13 04:00:00-04:00',\n",
       "               '2016-03-13 05:00:00-04:00', '2016-03-13 06:00:00-04:00',\n",
       "               '2016-03-13 07:00:00-04:00', '2016-03-13 08:00:00-04:00',\n",
       "               '2016-03-13 09:00:00-04:00', '2016-03-13 10:00:00-04:00'],\n",
       "              dtype='datetime64[ns, US/Eastern]', freq='H')"
      ]
     },
     "execution_count": 16,
     "metadata": {},
     "output_type": "execute_result"
    }
   ],
   "source": [
    "pd.date_range('03-12-2016 22:00', periods = 12, freq = 'H', tz = 'US/Eastern')"
   ]
  },
  {
   "cell_type": "code",
   "execution_count": 18,
   "metadata": {},
   "outputs": [],
   "source": [
    "# May autocorrect an error rather than giving you a non-existent time error\n",
    "pd.Timestamp('2016-03-13 02:00', tz = 'US/Eastern')"
   ]
  }
 ],
 "metadata": {
  "kernelspec": {
   "display_name": "Python 3",
   "language": "python",
   "name": "python3"
  },
  "language_info": {
   "codemirror_mode": {
    "name": "ipython",
    "version": 3
   },
   "file_extension": ".py",
   "mimetype": "text/x-python",
   "name": "python",
   "nbconvert_exporter": "python",
   "pygments_lexer": "ipython3",
   "version": "3.6.4"
  }
 },
 "nbformat": 4,
 "nbformat_minor": 2
}
