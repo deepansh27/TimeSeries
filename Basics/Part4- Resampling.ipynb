{
 "cells": [
  {
   "cell_type": "code",
   "execution_count": 64,
   "metadata": {},
   "outputs": [],
   "source": [
    "import pandas as pd\n",
    "import numpy as np"
   ]
  },
  {
   "cell_type": "code",
   "execution_count": 67,
   "metadata": {},
   "outputs": [
    {
     "data": {
      "text/plain": [
       "2011-01-01 00:00:00    0\n",
       "2011-01-01 01:00:00    1\n",
       "2011-01-01 02:00:00    2\n",
       "2011-01-01 03:00:00    3\n",
       "2011-01-01 04:00:00    4\n",
       "Freq: H, dtype: int64"
      ]
     },
     "execution_count": 67,
     "metadata": {},
     "output_type": "execute_result"
    }
   ],
   "source": [
    "rng = pd.date_range('2011-01-01', freq = 'H', periods = 72)\n",
    "ts = pd.Series(list(range(len(rng))), index = rng)\n",
    "ts.head()"
   ]
  },
  {
   "cell_type": "code",
   "execution_count": 69,
   "metadata": {},
   "outputs": [
    {
     "data": {
      "text/plain": [
       "2011-01-01 00:00:00    0\n",
       "2011-01-01 00:45:00    0\n",
       "2011-01-01 01:30:00    1\n",
       "2011-01-01 02:15:00    2\n",
       "2011-01-01 03:00:00    3\n",
       "Freq: 45T, dtype: int64"
      ]
     },
     "execution_count": 69,
     "metadata": {},
     "output_type": "execute_result"
    }
   ],
   "source": [
    "converted = ts.asfreq('45Min', method = 'pad')\n",
    "converted.head()"
   ]
  },
  {
   "cell_type": "code",
   "execution_count": 70,
   "metadata": {},
   "outputs": [
    {
     "data": {
      "text/plain": [
       "2011-01-01 00:00:00    0\n",
       "2011-01-01 00:45:00    1\n",
       "2011-01-01 01:30:00    2\n",
       "2011-01-01 02:15:00    3\n",
       "2011-01-01 03:00:00    3\n",
       "Freq: 45T, dtype: int64"
      ]
     },
     "execution_count": 70,
     "metadata": {},
     "output_type": "execute_result"
    }
   ],
   "source": [
    "converted = ts.asfreq('45Min', method = 'bfill')\n",
    "converted.head()"
   ]
  },
  {
   "cell_type": "code",
   "execution_count": 68,
   "metadata": {},
   "outputs": [
    {
     "data": {
      "text/plain": [
       "2011-01-01 00:00:00    0\n",
       "2011-01-01 00:45:00    0\n",
       "2011-01-01 01:30:00    1\n",
       "2011-01-01 02:15:00    2\n",
       "2011-01-01 03:00:00    3\n",
       "Freq: 45T, dtype: int64"
      ]
     },
     "execution_count": 68,
     "metadata": {},
     "output_type": "execute_result"
    }
   ],
   "source": [
    "converted = ts.asfreq('45Min', method = 'ffill')\n",
    "converted.head()"
   ]
  },
  {
   "cell_type": "code",
   "execution_count": 71,
   "metadata": {},
   "outputs": [
    {
     "data": {
      "text/plain": [
       "2011-01-01 00:00:00    0.0\n",
       "2011-01-01 00:45:00    NaN\n",
       "2011-01-01 01:30:00    NaN\n",
       "2011-01-01 02:15:00    NaN\n",
       "2011-01-01 03:00:00    3.0\n",
       "Freq: 45T, dtype: float64"
      ]
     },
     "execution_count": 71,
     "metadata": {},
     "output_type": "execute_result"
    }
   ],
   "source": [
    "converted = ts.asfreq('45Min', method = None)\n",
    "converted.head()"
   ]
  },
  {
   "cell_type": "code",
   "execution_count": 77,
   "metadata": {},
   "outputs": [
    {
     "name": "stdout",
     "output_type": "stream",
     "text": [
      "2011-01-01 00:00:00    0\n",
      "2011-01-01 01:00:00    1\n",
      "2011-01-01 02:00:00    2\n",
      "2011-01-01 03:00:00    3\n",
      "2011-01-01 04:00:00    4\n",
      "Freq: H, dtype: int64\n"
     ]
    },
    {
     "data": {
      "text/plain": [
       "2011-01-01 03:00:00     3\n",
       "2011-01-01 06:00:00     6\n",
       "2011-01-01 09:00:00     9\n",
       "2011-01-01 12:00:00    12\n",
       "2011-01-01 15:00:00    15\n",
       "2011-01-01 18:00:00    18\n",
       "2011-01-01 21:00:00    21\n",
       "2011-01-02 00:00:00    24\n",
       "2011-01-02 03:00:00    27\n",
       "Freq: 3H, dtype: int64"
      ]
     },
     "execution_count": 77,
     "metadata": {},
     "output_type": "execute_result"
    }
   ],
   "source": [
    "converted = ts.asfreq('3H')\n",
    "print(ts.head())\n",
    "converted[1:10]"
   ]
  },
  {
   "cell_type": "code",
   "execution_count": 78,
   "metadata": {},
   "outputs": [
    {
     "data": {
      "text/plain": [
       "2011-01-01 02:00:00     0.5\n",
       "2011-01-01 04:00:00     2.5\n",
       "2011-01-01 06:00:00     4.5\n",
       "2011-01-01 08:00:00     6.5\n",
       "2011-01-01 10:00:00     8.5\n",
       "2011-01-01 12:00:00    10.5\n",
       "2011-01-01 14:00:00    12.5\n",
       "2011-01-01 16:00:00    14.5\n",
       "2011-01-01 18:00:00    16.5\n",
       "2011-01-01 20:00:00    18.5\n",
       "Freq: 2H, dtype: float64"
      ]
     },
     "execution_count": 78,
     "metadata": {},
     "output_type": "execute_result"
    }
   ],
   "source": [
    "# A more flexible way of resampling\n",
    "ts.resample('2H', label = 'right').mean()[:10]"
   ]
  },
  {
   "cell_type": "code",
   "execution_count": 80,
   "metadata": {},
   "outputs": [],
   "source": [
    "# ts.resample??\n",
    "# ts.resample('D').sum()"
   ]
  },
  {
   "cell_type": "code",
   "execution_count": 89,
   "metadata": {},
   "outputs": [
    {
     "data": {
      "text/plain": [
       "2011-01-01 01:00:00     1\n",
       "2011-01-01 18:00:00    18\n",
       "2011-01-03 07:00:00    55\n",
       "2011-01-01 07:00:00     7\n",
       "2011-01-02 21:00:00    45\n",
       "2011-01-01 10:00:00    10\n",
       "2011-01-01 19:00:00    19\n",
       "2011-01-03 09:00:00    57\n",
       "2011-01-01 08:00:00     8\n",
       "2011-01-03 01:00:00    49\n",
       "dtype: int64"
      ]
     },
     "execution_count": 89,
     "metadata": {},
     "output_type": "execute_result"
    }
   ],
   "source": [
    "# Resampling event out of irregular time series\n",
    "irreg_ts = ts[list(np.random.choice(a = list(range(len(ts))), size = 10, replace = False))]\n",
    "irreg_ts"
   ]
  },
  {
   "cell_type": "code",
   "execution_count": 88,
   "metadata": {},
   "outputs": [
    {
     "data": {
      "text/plain": [
       "2011-01-01 07:00:00     7\n",
       "2011-01-01 09:00:00     9\n",
       "2011-01-01 23:00:00    23\n",
       "2011-01-02 03:00:00    27\n",
       "2011-01-02 06:00:00    30\n",
       "2011-01-02 11:00:00    35\n",
       "2011-01-02 23:00:00    47\n",
       "2011-01-03 02:00:00    50\n",
       "2011-01-03 21:00:00    69\n",
       "2011-01-03 22:00:00    70\n",
       "dtype: int64"
      ]
     },
     "execution_count": 88,
     "metadata": {},
     "output_type": "execute_result"
    }
   ],
   "source": [
    "# sorting the index to get it back in the right order\n",
    "irreg_ts = irreg_ts.sort_index()\n",
    "irreg_ts"
   ]
  },
  {
   "cell_type": "code",
   "execution_count": 90,
   "metadata": {},
   "outputs": [
    {
     "data": {
      "text/plain": [
       "2011-01-01 01:00:00     1.0\n",
       "2011-01-02 01:00:00     NaN\n",
       "2011-01-03 01:00:00    49.0\n",
       "Freq: D, dtype: float64"
      ]
     },
     "execution_count": 90,
     "metadata": {},
     "output_type": "execute_result"
    }
   ],
   "source": [
    "irreg_ts.asfreq('D')"
   ]
  },
  {
   "cell_type": "code",
   "execution_count": 91,
   "metadata": {},
   "outputs": [
    {
     "data": {
      "text/plain": [
       "2011-01-01    10.500000\n",
       "2011-01-02    45.000000\n",
       "2011-01-03    53.666667\n",
       "Freq: D, dtype: float64"
      ]
     },
     "execution_count": 91,
     "metadata": {},
     "output_type": "execute_result"
    }
   ],
   "source": [
    "irreg_ts.resample('D').mean()"
   ]
  },
  {
   "cell_type": "code",
   "execution_count": 93,
   "metadata": {},
   "outputs": [
    {
     "data": {
      "text/plain": [
       "2011-01-01 00:00:00     0.0\n",
       "2011-01-01 00:10:00     0.0\n",
       "2011-01-01 00:20:00     0.0\n",
       "2011-01-01 00:30:00     0.0\n",
       "2011-01-01 00:40:00     NaN\n",
       "2011-01-01 00:50:00     NaN\n",
       "2011-01-01 01:00:00     NaN\n",
       "2011-01-01 01:10:00     NaN\n",
       "2011-01-01 01:20:00     NaN\n",
       "2011-01-01 01:30:00     NaN\n",
       "2011-01-01 01:40:00     NaN\n",
       "2011-01-01 01:50:00     NaN\n",
       "2011-01-01 02:00:00     NaN\n",
       "2011-01-01 02:10:00     NaN\n",
       "2011-01-01 02:20:00     NaN\n",
       "2011-01-01 02:30:00     NaN\n",
       "2011-01-01 02:40:00     NaN\n",
       "2011-01-01 02:50:00     NaN\n",
       "2011-01-01 03:00:00     3.0\n",
       "2011-01-01 03:10:00     3.0\n",
       "2011-01-01 03:20:00     3.0\n",
       "2011-01-01 03:30:00     3.0\n",
       "2011-01-01 03:40:00     NaN\n",
       "2011-01-01 03:50:00     NaN\n",
       "2011-01-01 04:00:00     NaN\n",
       "2011-01-01 04:10:00     NaN\n",
       "2011-01-01 04:20:00     NaN\n",
       "2011-01-01 04:30:00     NaN\n",
       "2011-01-01 04:40:00     NaN\n",
       "2011-01-01 04:50:00     NaN\n",
       "                       ... \n",
       "2011-01-03 16:10:00     NaN\n",
       "2011-01-03 16:20:00     NaN\n",
       "2011-01-03 16:30:00     NaN\n",
       "2011-01-03 16:40:00     NaN\n",
       "2011-01-03 16:50:00     NaN\n",
       "2011-01-03 17:00:00     NaN\n",
       "2011-01-03 17:10:00     NaN\n",
       "2011-01-03 17:20:00     NaN\n",
       "2011-01-03 17:30:00     NaN\n",
       "2011-01-03 17:40:00     NaN\n",
       "2011-01-03 17:50:00     NaN\n",
       "2011-01-03 18:00:00    66.0\n",
       "2011-01-03 18:10:00    66.0\n",
       "2011-01-03 18:20:00    66.0\n",
       "2011-01-03 18:30:00    66.0\n",
       "2011-01-03 18:40:00     NaN\n",
       "2011-01-03 18:50:00     NaN\n",
       "2011-01-03 19:00:00     NaN\n",
       "2011-01-03 19:10:00     NaN\n",
       "2011-01-03 19:20:00     NaN\n",
       "2011-01-03 19:30:00     NaN\n",
       "2011-01-03 19:40:00     NaN\n",
       "2011-01-03 19:50:00     NaN\n",
       "2011-01-03 20:00:00     NaN\n",
       "2011-01-03 20:10:00     NaN\n",
       "2011-01-03 20:20:00     NaN\n",
       "2011-01-03 20:30:00     NaN\n",
       "2011-01-03 20:40:00     NaN\n",
       "2011-01-03 20:50:00     NaN\n",
       "2011-01-03 21:00:00    69.0\n",
       "Freq: 10T, Length: 415, dtype: float64"
      ]
     },
     "execution_count": 93,
     "metadata": {},
     "output_type": "execute_result"
    }
   ],
   "source": [
    "# Partial forward fill\n",
    "converted.asfreq('10Min', method = None).fillna(method = 'ffill', limit = 3)"
   ]
  }
 ],
 "metadata": {
  "kernelspec": {
   "display_name": "Python 3",
   "language": "python",
   "name": "python3"
  },
  "language_info": {
   "codemirror_mode": {
    "name": "ipython",
    "version": 3
   },
   "file_extension": ".py",
   "mimetype": "text/x-python",
   "name": "python",
   "nbconvert_exporter": "python",
   "pygments_lexer": "ipython3",
   "version": "3.6.4"
  }
 },
 "nbformat": 4,
 "nbformat_minor": 2
}
