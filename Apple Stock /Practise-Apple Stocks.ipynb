{
 "cells": [
  {
   "cell_type": "code",
   "execution_count": null,
   "metadata": {},
   "outputs": [],
   "source": [
    "# https://pandas.pydata.org/pandas-docs/stable/timeseries.html"
   ]
  },
  {
   "cell_type": "code",
   "execution_count": 60,
   "metadata": {},
   "outputs": [
    {
     "name": "stdout",
     "output_type": "stream",
     "text": [
      "0.22.0\n"
     ]
    }
   ],
   "source": [
    "%matplotlib inline\n",
    "import matplotlib.pylab as plt\n",
    "import pandas as pd\n",
    "print(pd.__version__)"
   ]
  },
  {
   "cell_type": "code",
   "execution_count": 3,
   "metadata": {},
   "outputs": [
    {
     "data": {
      "text/html": [
       "<div>\n",
       "<style scoped>\n",
       "    .dataframe tbody tr th:only-of-type {\n",
       "        vertical-align: middle;\n",
       "    }\n",
       "\n",
       "    .dataframe tbody tr th {\n",
       "        vertical-align: top;\n",
       "    }\n",
       "\n",
       "    .dataframe thead th {\n",
       "        text-align: right;\n",
       "    }\n",
       "</style>\n",
       "<table border=\"1\" class=\"dataframe\">\n",
       "  <thead>\n",
       "    <tr style=\"text-align: right;\">\n",
       "      <th></th>\n",
       "      <th>Date</th>\n",
       "      <th>Open</th>\n",
       "      <th>High</th>\n",
       "      <th>Low</th>\n",
       "      <th>Close</th>\n",
       "      <th>Adj Close</th>\n",
       "      <th>Volume</th>\n",
       "    </tr>\n",
       "  </thead>\n",
       "  <tbody>\n",
       "    <tr>\n",
       "      <th>0</th>\n",
       "      <td>2016-06-06</td>\n",
       "      <td>97.989998</td>\n",
       "      <td>101.889999</td>\n",
       "      <td>97.550003</td>\n",
       "      <td>98.629997</td>\n",
       "      <td>95.295364</td>\n",
       "      <td>23292500</td>\n",
       "    </tr>\n",
       "    <tr>\n",
       "      <th>1</th>\n",
       "      <td>2016-06-07</td>\n",
       "      <td>99.250000</td>\n",
       "      <td>99.870003</td>\n",
       "      <td>98.959999</td>\n",
       "      <td>99.029999</td>\n",
       "      <td>95.681847</td>\n",
       "      <td>22409500</td>\n",
       "    </tr>\n",
       "    <tr>\n",
       "      <th>2</th>\n",
       "      <td>2016-06-08</td>\n",
       "      <td>99.019997</td>\n",
       "      <td>99.559998</td>\n",
       "      <td>98.680000</td>\n",
       "      <td>98.940002</td>\n",
       "      <td>95.594902</td>\n",
       "      <td>20848100</td>\n",
       "    </tr>\n",
       "    <tr>\n",
       "      <th>3</th>\n",
       "      <td>2016-06-09</td>\n",
       "      <td>98.500000</td>\n",
       "      <td>99.989998</td>\n",
       "      <td>98.459999</td>\n",
       "      <td>99.650002</td>\n",
       "      <td>96.280899</td>\n",
       "      <td>26601400</td>\n",
       "    </tr>\n",
       "    <tr>\n",
       "      <th>4</th>\n",
       "      <td>2016-06-10</td>\n",
       "      <td>98.529999</td>\n",
       "      <td>99.349998</td>\n",
       "      <td>98.480003</td>\n",
       "      <td>98.830002</td>\n",
       "      <td>95.488617</td>\n",
       "      <td>31712900</td>\n",
       "    </tr>\n",
       "  </tbody>\n",
       "</table>\n",
       "</div>"
      ],
      "text/plain": [
       "         Date       Open        High        Low      Close  Adj Close  \\\n",
       "0  2016-06-06  97.989998  101.889999  97.550003  98.629997  95.295364   \n",
       "1  2016-06-07  99.250000   99.870003  98.959999  99.029999  95.681847   \n",
       "2  2016-06-08  99.019997   99.559998  98.680000  98.940002  95.594902   \n",
       "3  2016-06-09  98.500000   99.989998  98.459999  99.650002  96.280899   \n",
       "4  2016-06-10  98.529999   99.349998  98.480003  98.830002  95.488617   \n",
       "\n",
       "     Volume  \n",
       "0  23292500  \n",
       "1  22409500  \n",
       "2  20848100  \n",
       "3  26601400  \n",
       "4  31712900  "
      ]
     },
     "execution_count": 3,
     "metadata": {},
     "output_type": "execute_result"
    }
   ],
   "source": [
    "df = pd.read_csv('AAPL.csv', header = 0)\n",
    "df.head()"
   ]
  },
  {
   "cell_type": "code",
   "execution_count": 18,
   "metadata": {},
   "outputs": [
    {
     "data": {
      "text/html": [
       "<div>\n",
       "<style scoped>\n",
       "    .dataframe tbody tr th:only-of-type {\n",
       "        vertical-align: middle;\n",
       "    }\n",
       "\n",
       "    .dataframe tbody tr th {\n",
       "        vertical-align: top;\n",
       "    }\n",
       "\n",
       "    .dataframe thead th {\n",
       "        text-align: right;\n",
       "    }\n",
       "</style>\n",
       "<table border=\"1\" class=\"dataframe\">\n",
       "  <thead>\n",
       "    <tr style=\"text-align: right;\">\n",
       "      <th></th>\n",
       "      <th>Open</th>\n",
       "      <th>High</th>\n",
       "      <th>Low</th>\n",
       "      <th>Close</th>\n",
       "      <th>Adj Close</th>\n",
       "      <th>Volume</th>\n",
       "    </tr>\n",
       "    <tr>\n",
       "      <th>Date</th>\n",
       "      <th></th>\n",
       "      <th></th>\n",
       "      <th></th>\n",
       "      <th></th>\n",
       "      <th></th>\n",
       "      <th></th>\n",
       "    </tr>\n",
       "  </thead>\n",
       "  <tbody>\n",
       "    <tr>\n",
       "      <th>2016-06-06</th>\n",
       "      <td>97.989998</td>\n",
       "      <td>101.889999</td>\n",
       "      <td>97.550003</td>\n",
       "      <td>98.629997</td>\n",
       "      <td>95.295364</td>\n",
       "      <td>23292500</td>\n",
       "    </tr>\n",
       "    <tr>\n",
       "      <th>2016-06-07</th>\n",
       "      <td>99.250000</td>\n",
       "      <td>99.870003</td>\n",
       "      <td>98.959999</td>\n",
       "      <td>99.029999</td>\n",
       "      <td>95.681847</td>\n",
       "      <td>22409500</td>\n",
       "    </tr>\n",
       "    <tr>\n",
       "      <th>2016-06-08</th>\n",
       "      <td>99.019997</td>\n",
       "      <td>99.559998</td>\n",
       "      <td>98.680000</td>\n",
       "      <td>98.940002</td>\n",
       "      <td>95.594902</td>\n",
       "      <td>20848100</td>\n",
       "    </tr>\n",
       "    <tr>\n",
       "      <th>2016-06-09</th>\n",
       "      <td>98.500000</td>\n",
       "      <td>99.989998</td>\n",
       "      <td>98.459999</td>\n",
       "      <td>99.650002</td>\n",
       "      <td>96.280899</td>\n",
       "      <td>26601400</td>\n",
       "    </tr>\n",
       "    <tr>\n",
       "      <th>2016-06-10</th>\n",
       "      <td>98.529999</td>\n",
       "      <td>99.349998</td>\n",
       "      <td>98.480003</td>\n",
       "      <td>98.830002</td>\n",
       "      <td>95.488617</td>\n",
       "      <td>31712900</td>\n",
       "    </tr>\n",
       "  </tbody>\n",
       "</table>\n",
       "</div>"
      ],
      "text/plain": [
       "                 Open        High        Low      Close  Adj Close    Volume\n",
       "Date                                                                        \n",
       "2016-06-06  97.989998  101.889999  97.550003  98.629997  95.295364  23292500\n",
       "2016-06-07  99.250000   99.870003  98.959999  99.029999  95.681847  22409500\n",
       "2016-06-08  99.019997   99.559998  98.680000  98.940002  95.594902  20848100\n",
       "2016-06-09  98.500000   99.989998  98.459999  99.650002  96.280899  26601400\n",
       "2016-06-10  98.529999   99.349998  98.480003  98.830002  95.488617  31712900"
      ]
     },
     "execution_count": 18,
     "metadata": {},
     "output_type": "execute_result"
    }
   ],
   "source": [
    "## Converting into typical time series data, where the index is the date\n",
    "ts = pd.read_csv('AAPL.csv', header = 0, parse_dates = ['Date'], index_col = \"Date\")\n",
    "ts.head()"
   ]
  },
  {
   "cell_type": "code",
   "execution_count": 20,
   "metadata": {},
   "outputs": [
    {
     "data": {
      "text/plain": [
       "pandas.core.indexes.datetimes.DatetimeIndex"
      ]
     },
     "execution_count": 20,
     "metadata": {},
     "output_type": "execute_result"
    }
   ],
   "source": [
    "type(ts.index)"
   ]
  },
  {
   "cell_type": "code",
   "execution_count": 21,
   "metadata": {},
   "outputs": [
    {
     "data": {
      "text/plain": [
       "Timestamp('2016-06-06 00:00:00')"
      ]
     },
     "execution_count": 21,
     "metadata": {},
     "output_type": "execute_result"
    }
   ],
   "source": [
    "ts.index.min()"
   ]
  },
  {
   "cell_type": "code",
   "execution_count": 22,
   "metadata": {},
   "outputs": [
    {
     "data": {
      "text/plain": [
       "Timestamp('2018-06-04 00:00:00')"
      ]
     },
     "execution_count": 22,
     "metadata": {},
     "output_type": "execute_result"
    }
   ],
   "source": [
    "ts.index.max()"
   ]
  },
  {
   "cell_type": "code",
   "execution_count": 25,
   "metadata": {},
   "outputs": [
    {
     "data": {
      "text/plain": [
       "96.39947384210528"
      ]
     },
     "execution_count": 25,
     "metadata": {},
     "output_type": "execute_result"
    }
   ],
   "source": [
    "ts['2016-06'].Close.mean()"
   ]
  },
  {
   "cell_type": "code",
   "execution_count": 38,
   "metadata": {},
   "outputs": [
    {
     "data": {
      "text/plain": [
       "DatetimeIndex(['2016-06-06', '2016-06-07', '2016-06-08', '2016-06-09',\n",
       "               '2016-06-10', '2016-06-13', '2016-06-14', '2016-06-15',\n",
       "               '2016-06-16', '2016-06-17',\n",
       "               ...\n",
       "               '2018-05-21', '2018-05-22', '2018-05-23', '2018-05-24',\n",
       "               '2018-05-25', '2018-05-29', '2018-05-30', '2018-05-31',\n",
       "               '2018-06-01', '2018-06-04'],\n",
       "              dtype='datetime64[ns]', name='Date', length=503, freq=None)"
      ]
     },
     "execution_count": 38,
     "metadata": {},
     "output_type": "execute_result"
    }
   ],
   "source": [
    "# retrive the stock price at any given date\n",
    "ts.index"
   ]
  },
  {
   "cell_type": "code",
   "execution_count": 46,
   "metadata": {},
   "outputs": [
    {
     "data": {
      "text/html": [
       "<div>\n",
       "<style scoped>\n",
       "    .dataframe tbody tr th:only-of-type {\n",
       "        vertical-align: middle;\n",
       "    }\n",
       "\n",
       "    .dataframe tbody tr th {\n",
       "        vertical-align: top;\n",
       "    }\n",
       "\n",
       "    .dataframe thead th {\n",
       "        text-align: right;\n",
       "    }\n",
       "</style>\n",
       "<table border=\"1\" class=\"dataframe\">\n",
       "  <thead>\n",
       "    <tr style=\"text-align: right;\">\n",
       "      <th></th>\n",
       "      <th>Open</th>\n",
       "      <th>High</th>\n",
       "      <th>Low</th>\n",
       "      <th>Close</th>\n",
       "      <th>Adj Close</th>\n",
       "      <th>Volume</th>\n",
       "    </tr>\n",
       "    <tr>\n",
       "      <th>Date</th>\n",
       "      <th></th>\n",
       "      <th></th>\n",
       "      <th></th>\n",
       "      <th></th>\n",
       "      <th></th>\n",
       "      <th></th>\n",
       "    </tr>\n",
       "  </thead>\n",
       "  <tbody>\n",
       "    <tr>\n",
       "      <th>2017-01-03</th>\n",
       "      <td>115.800003</td>\n",
       "      <td>116.330002</td>\n",
       "      <td>114.760002</td>\n",
       "      <td>116.150002</td>\n",
       "      <td>113.410263</td>\n",
       "      <td>28781900</td>\n",
       "    </tr>\n",
       "    <tr>\n",
       "      <th>2017-01-04</th>\n",
       "      <td>115.849998</td>\n",
       "      <td>116.510002</td>\n",
       "      <td>115.750000</td>\n",
       "      <td>116.019997</td>\n",
       "      <td>113.283333</td>\n",
       "      <td>21118100</td>\n",
       "    </tr>\n",
       "    <tr>\n",
       "      <th>2017-01-05</th>\n",
       "      <td>115.919998</td>\n",
       "      <td>116.860001</td>\n",
       "      <td>115.809998</td>\n",
       "      <td>116.610001</td>\n",
       "      <td>113.859421</td>\n",
       "      <td>22193600</td>\n",
       "    </tr>\n",
       "    <tr>\n",
       "      <th>2017-01-06</th>\n",
       "      <td>116.779999</td>\n",
       "      <td>118.160004</td>\n",
       "      <td>116.470001</td>\n",
       "      <td>117.910004</td>\n",
       "      <td>115.128761</td>\n",
       "      <td>31751900</td>\n",
       "    </tr>\n",
       "    <tr>\n",
       "      <th>2017-01-09</th>\n",
       "      <td>117.949997</td>\n",
       "      <td>119.430000</td>\n",
       "      <td>117.940002</td>\n",
       "      <td>118.989998</td>\n",
       "      <td>116.183273</td>\n",
       "      <td>33561900</td>\n",
       "    </tr>\n",
       "    <tr>\n",
       "      <th>2017-01-10</th>\n",
       "      <td>118.769997</td>\n",
       "      <td>119.379997</td>\n",
       "      <td>118.300003</td>\n",
       "      <td>119.110001</td>\n",
       "      <td>116.300438</td>\n",
       "      <td>24462100</td>\n",
       "    </tr>\n",
       "    <tr>\n",
       "      <th>2017-01-11</th>\n",
       "      <td>118.739998</td>\n",
       "      <td>119.930000</td>\n",
       "      <td>118.599998</td>\n",
       "      <td>119.750000</td>\n",
       "      <td>116.925346</td>\n",
       "      <td>27588600</td>\n",
       "    </tr>\n",
       "    <tr>\n",
       "      <th>2017-01-12</th>\n",
       "      <td>118.900002</td>\n",
       "      <td>119.300003</td>\n",
       "      <td>118.209999</td>\n",
       "      <td>119.250000</td>\n",
       "      <td>116.437141</td>\n",
       "      <td>27086200</td>\n",
       "    </tr>\n",
       "    <tr>\n",
       "      <th>2017-01-13</th>\n",
       "      <td>119.110001</td>\n",
       "      <td>119.620003</td>\n",
       "      <td>118.809998</td>\n",
       "      <td>119.040001</td>\n",
       "      <td>116.232101</td>\n",
       "      <td>26111900</td>\n",
       "    </tr>\n",
       "    <tr>\n",
       "      <th>2017-01-17</th>\n",
       "      <td>118.339996</td>\n",
       "      <td>120.239998</td>\n",
       "      <td>118.220001</td>\n",
       "      <td>120.000000</td>\n",
       "      <td>117.169449</td>\n",
       "      <td>34439800</td>\n",
       "    </tr>\n",
       "    <tr>\n",
       "      <th>2017-01-18</th>\n",
       "      <td>120.000000</td>\n",
       "      <td>120.500000</td>\n",
       "      <td>119.709999</td>\n",
       "      <td>119.989998</td>\n",
       "      <td>117.159683</td>\n",
       "      <td>23713000</td>\n",
       "    </tr>\n",
       "    <tr>\n",
       "      <th>2017-01-19</th>\n",
       "      <td>119.400002</td>\n",
       "      <td>120.089996</td>\n",
       "      <td>119.370003</td>\n",
       "      <td>119.779999</td>\n",
       "      <td>116.954636</td>\n",
       "      <td>25597300</td>\n",
       "    </tr>\n",
       "    <tr>\n",
       "      <th>2017-01-20</th>\n",
       "      <td>120.449997</td>\n",
       "      <td>120.449997</td>\n",
       "      <td>119.730003</td>\n",
       "      <td>120.000000</td>\n",
       "      <td>117.169449</td>\n",
       "      <td>32597900</td>\n",
       "    </tr>\n",
       "    <tr>\n",
       "      <th>2017-01-23</th>\n",
       "      <td>120.000000</td>\n",
       "      <td>120.809998</td>\n",
       "      <td>119.769997</td>\n",
       "      <td>120.080002</td>\n",
       "      <td>117.247566</td>\n",
       "      <td>22050200</td>\n",
       "    </tr>\n",
       "    <tr>\n",
       "      <th>2017-01-24</th>\n",
       "      <td>119.550003</td>\n",
       "      <td>120.099998</td>\n",
       "      <td>119.500000</td>\n",
       "      <td>119.970001</td>\n",
       "      <td>117.140160</td>\n",
       "      <td>23211000</td>\n",
       "    </tr>\n",
       "    <tr>\n",
       "      <th>2017-01-25</th>\n",
       "      <td>120.419998</td>\n",
       "      <td>122.099998</td>\n",
       "      <td>120.279999</td>\n",
       "      <td>121.879997</td>\n",
       "      <td>119.005104</td>\n",
       "      <td>32377600</td>\n",
       "    </tr>\n",
       "    <tr>\n",
       "      <th>2017-01-26</th>\n",
       "      <td>121.669998</td>\n",
       "      <td>122.440002</td>\n",
       "      <td>121.599998</td>\n",
       "      <td>121.940002</td>\n",
       "      <td>119.063698</td>\n",
       "      <td>26337600</td>\n",
       "    </tr>\n",
       "    <tr>\n",
       "      <th>2017-01-27</th>\n",
       "      <td>122.139999</td>\n",
       "      <td>122.349998</td>\n",
       "      <td>121.599998</td>\n",
       "      <td>121.949997</td>\n",
       "      <td>119.073456</td>\n",
       "      <td>20562900</td>\n",
       "    </tr>\n",
       "    <tr>\n",
       "      <th>2017-01-30</th>\n",
       "      <td>120.930000</td>\n",
       "      <td>121.629997</td>\n",
       "      <td>120.660004</td>\n",
       "      <td>121.629997</td>\n",
       "      <td>118.761009</td>\n",
       "      <td>30377500</td>\n",
       "    </tr>\n",
       "    <tr>\n",
       "      <th>2017-01-31</th>\n",
       "      <td>121.150002</td>\n",
       "      <td>121.389999</td>\n",
       "      <td>120.620003</td>\n",
       "      <td>121.349998</td>\n",
       "      <td>118.487602</td>\n",
       "      <td>49201000</td>\n",
       "    </tr>\n",
       "    <tr>\n",
       "      <th>2017-02-01</th>\n",
       "      <td>127.029999</td>\n",
       "      <td>130.490005</td>\n",
       "      <td>127.010002</td>\n",
       "      <td>128.750000</td>\n",
       "      <td>125.713051</td>\n",
       "      <td>111985000</td>\n",
       "    </tr>\n",
       "  </tbody>\n",
       "</table>\n",
       "</div>"
      ],
      "text/plain": [
       "                  Open        High         Low       Close   Adj Close  \\\n",
       "Date                                                                     \n",
       "2017-01-03  115.800003  116.330002  114.760002  116.150002  113.410263   \n",
       "2017-01-04  115.849998  116.510002  115.750000  116.019997  113.283333   \n",
       "2017-01-05  115.919998  116.860001  115.809998  116.610001  113.859421   \n",
       "2017-01-06  116.779999  118.160004  116.470001  117.910004  115.128761   \n",
       "2017-01-09  117.949997  119.430000  117.940002  118.989998  116.183273   \n",
       "2017-01-10  118.769997  119.379997  118.300003  119.110001  116.300438   \n",
       "2017-01-11  118.739998  119.930000  118.599998  119.750000  116.925346   \n",
       "2017-01-12  118.900002  119.300003  118.209999  119.250000  116.437141   \n",
       "2017-01-13  119.110001  119.620003  118.809998  119.040001  116.232101   \n",
       "2017-01-17  118.339996  120.239998  118.220001  120.000000  117.169449   \n",
       "2017-01-18  120.000000  120.500000  119.709999  119.989998  117.159683   \n",
       "2017-01-19  119.400002  120.089996  119.370003  119.779999  116.954636   \n",
       "2017-01-20  120.449997  120.449997  119.730003  120.000000  117.169449   \n",
       "2017-01-23  120.000000  120.809998  119.769997  120.080002  117.247566   \n",
       "2017-01-24  119.550003  120.099998  119.500000  119.970001  117.140160   \n",
       "2017-01-25  120.419998  122.099998  120.279999  121.879997  119.005104   \n",
       "2017-01-26  121.669998  122.440002  121.599998  121.940002  119.063698   \n",
       "2017-01-27  122.139999  122.349998  121.599998  121.949997  119.073456   \n",
       "2017-01-30  120.930000  121.629997  120.660004  121.629997  118.761009   \n",
       "2017-01-31  121.150002  121.389999  120.620003  121.349998  118.487602   \n",
       "2017-02-01  127.029999  130.490005  127.010002  128.750000  125.713051   \n",
       "\n",
       "               Volume  \n",
       "Date                   \n",
       "2017-01-03   28781900  \n",
       "2017-01-04   21118100  \n",
       "2017-01-05   22193600  \n",
       "2017-01-06   31751900  \n",
       "2017-01-09   33561900  \n",
       "2017-01-10   24462100  \n",
       "2017-01-11   27588600  \n",
       "2017-01-12   27086200  \n",
       "2017-01-13   26111900  \n",
       "2017-01-17   34439800  \n",
       "2017-01-18   23713000  \n",
       "2017-01-19   25597300  \n",
       "2017-01-20   32597900  \n",
       "2017-01-23   22050200  \n",
       "2017-01-24   23211000  \n",
       "2017-01-25   32377600  \n",
       "2017-01-26   26337600  \n",
       "2017-01-27   20562900  \n",
       "2017-01-30   30377500  \n",
       "2017-01-31   49201000  \n",
       "2017-02-01  111985000  "
      ]
     },
     "execution_count": 46,
     "metadata": {},
     "output_type": "execute_result"
    }
   ],
   "source": [
    "ts[\"2017-01-01\":\"2017-02-01\"]"
   ]
  },
  {
   "cell_type": "markdown",
   "metadata": {},
   "source": [
    "## Resampling the daily data into montly stock prices"
   ]
  },
  {
   "cell_type": "code",
   "execution_count": 55,
   "metadata": {},
   "outputs": [
    {
     "data": {
      "text/html": [
       "<div>\n",
       "<style scoped>\n",
       "    .dataframe tbody tr th:only-of-type {\n",
       "        vertical-align: middle;\n",
       "    }\n",
       "\n",
       "    .dataframe tbody tr th {\n",
       "        vertical-align: top;\n",
       "    }\n",
       "\n",
       "    .dataframe thead th {\n",
       "        text-align: right;\n",
       "    }\n",
       "</style>\n",
       "<table border=\"1\" class=\"dataframe\">\n",
       "  <thead>\n",
       "    <tr style=\"text-align: right;\">\n",
       "      <th></th>\n",
       "      <th>Open</th>\n",
       "      <th>High</th>\n",
       "      <th>Low</th>\n",
       "      <th>Close</th>\n",
       "      <th>Adj Close</th>\n",
       "      <th>Volume</th>\n",
       "    </tr>\n",
       "    <tr>\n",
       "      <th>Date</th>\n",
       "      <th></th>\n",
       "      <th></th>\n",
       "      <th></th>\n",
       "      <th></th>\n",
       "      <th></th>\n",
       "      <th></th>\n",
       "    </tr>\n",
       "  </thead>\n",
       "  <tbody>\n",
       "    <tr>\n",
       "      <th>2016-06-30</th>\n",
       "      <td>96.344211</td>\n",
       "      <td>97.308422</td>\n",
       "      <td>95.732105</td>\n",
       "      <td>96.399474</td>\n",
       "      <td>93.140262</td>\n",
       "      <td>3.587515e+07</td>\n",
       "    </tr>\n",
       "    <tr>\n",
       "      <th>2016-07-31</th>\n",
       "      <td>98.450999</td>\n",
       "      <td>99.164000</td>\n",
       "      <td>98.002500</td>\n",
       "      <td>98.556500</td>\n",
       "      <td>95.224357</td>\n",
       "      <td>3.428898e+07</td>\n",
       "    </tr>\n",
       "    <tr>\n",
       "      <th>2016-08-31</th>\n",
       "      <td>107.463044</td>\n",
       "      <td>108.140435</td>\n",
       "      <td>106.986522</td>\n",
       "      <td>107.665218</td>\n",
       "      <td>104.516657</td>\n",
       "      <td>2.739689e+07</td>\n",
       "    </tr>\n",
       "    <tr>\n",
       "      <th>2016-09-30</th>\n",
       "      <td>110.673334</td>\n",
       "      <td>111.745239</td>\n",
       "      <td>109.807619</td>\n",
       "      <td>110.857142</td>\n",
       "      <td>107.689357</td>\n",
       "      <td>4.609598e+07</td>\n",
       "    </tr>\n",
       "    <tr>\n",
       "      <th>2016-10-31</th>\n",
       "      <td>115.743809</td>\n",
       "      <td>116.388095</td>\n",
       "      <td>114.941428</td>\n",
       "      <td>115.707143</td>\n",
       "      <td>112.400762</td>\n",
       "      <td>3.271020e+07</td>\n",
       "    </tr>\n",
       "    <tr>\n",
       "      <th>2016-11-30</th>\n",
       "      <td>110.082380</td>\n",
       "      <td>111.068571</td>\n",
       "      <td>108.988572</td>\n",
       "      <td>110.154285</td>\n",
       "      <td>107.502998</td>\n",
       "      <td>3.434788e+07</td>\n",
       "    </tr>\n",
       "    <tr>\n",
       "      <th>2016-12-31</th>\n",
       "      <td>113.995714</td>\n",
       "      <td>115.025238</td>\n",
       "      <td>113.545238</td>\n",
       "      <td>114.335714</td>\n",
       "      <td>111.638775</td>\n",
       "      <td>2.898588e+07</td>\n",
       "    </tr>\n",
       "    <tr>\n",
       "      <th>2017-01-31</th>\n",
       "      <td>119.093499</td>\n",
       "      <td>119.881000</td>\n",
       "      <td>118.785500</td>\n",
       "      <td>119.570000</td>\n",
       "      <td>116.749594</td>\n",
       "      <td>2.815610e+07</td>\n",
       "    </tr>\n",
       "    <tr>\n",
       "      <th>2017-02-28</th>\n",
       "      <td>133.234738</td>\n",
       "      <td>134.161579</td>\n",
       "      <td>132.836841</td>\n",
       "      <td>133.714209</td>\n",
       "      <td>130.952388</td>\n",
       "      <td>3.026151e+07</td>\n",
       "    </tr>\n",
       "    <tr>\n",
       "      <th>2017-03-31</th>\n",
       "      <td>140.362174</td>\n",
       "      <td>141.197826</td>\n",
       "      <td>139.709130</td>\n",
       "      <td>140.617826</td>\n",
       "      <td>137.896228</td>\n",
       "      <td>2.441863e+07</td>\n",
       "    </tr>\n",
       "  </tbody>\n",
       "</table>\n",
       "</div>"
      ],
      "text/plain": [
       "                  Open        High         Low       Close   Adj Close  \\\n",
       "Date                                                                     \n",
       "2016-06-30   96.344211   97.308422   95.732105   96.399474   93.140262   \n",
       "2016-07-31   98.450999   99.164000   98.002500   98.556500   95.224357   \n",
       "2016-08-31  107.463044  108.140435  106.986522  107.665218  104.516657   \n",
       "2016-09-30  110.673334  111.745239  109.807619  110.857142  107.689357   \n",
       "2016-10-31  115.743809  116.388095  114.941428  115.707143  112.400762   \n",
       "2016-11-30  110.082380  111.068571  108.988572  110.154285  107.502998   \n",
       "2016-12-31  113.995714  115.025238  113.545238  114.335714  111.638775   \n",
       "2017-01-31  119.093499  119.881000  118.785500  119.570000  116.749594   \n",
       "2017-02-28  133.234738  134.161579  132.836841  133.714209  130.952388   \n",
       "2017-03-31  140.362174  141.197826  139.709130  140.617826  137.896228   \n",
       "\n",
       "                  Volume  \n",
       "Date                      \n",
       "2016-06-30  3.587515e+07  \n",
       "2016-07-31  3.428898e+07  \n",
       "2016-08-31  2.739689e+07  \n",
       "2016-09-30  4.609598e+07  \n",
       "2016-10-31  3.271020e+07  \n",
       "2016-11-30  3.434788e+07  \n",
       "2016-12-31  2.898588e+07  \n",
       "2017-01-31  2.815610e+07  \n",
       "2017-02-28  3.026151e+07  \n",
       "2017-03-31  2.441863e+07  "
      ]
     },
     "execution_count": 55,
     "metadata": {},
     "output_type": "execute_result"
    }
   ],
   "source": [
    "montly_data = ts.resample('M')\n",
    "montly_data.mean()[:10]"
   ]
  },
  {
   "cell_type": "code",
   "execution_count": 56,
   "metadata": {},
   "outputs": [
    {
     "data": {
      "text/html": [
       "<div>\n",
       "<style scoped>\n",
       "    .dataframe tbody tr th:only-of-type {\n",
       "        vertical-align: middle;\n",
       "    }\n",
       "\n",
       "    .dataframe tbody tr th {\n",
       "        vertical-align: top;\n",
       "    }\n",
       "\n",
       "    .dataframe thead th {\n",
       "        text-align: right;\n",
       "    }\n",
       "</style>\n",
       "<table border=\"1\" class=\"dataframe\">\n",
       "  <thead>\n",
       "    <tr style=\"text-align: right;\">\n",
       "      <th></th>\n",
       "      <th>Open</th>\n",
       "      <th>High</th>\n",
       "      <th>Low</th>\n",
       "      <th>Close</th>\n",
       "      <th>Adj Close</th>\n",
       "      <th>Volume</th>\n",
       "    </tr>\n",
       "    <tr>\n",
       "      <th>Date</th>\n",
       "      <th></th>\n",
       "      <th></th>\n",
       "      <th></th>\n",
       "      <th></th>\n",
       "      <th></th>\n",
       "      <th></th>\n",
       "    </tr>\n",
       "  </thead>\n",
       "  <tbody>\n",
       "    <tr>\n",
       "      <th>2016-06-30</th>\n",
       "      <td>99.250000</td>\n",
       "      <td>101.889999</td>\n",
       "      <td>98.959999</td>\n",
       "      <td>99.650002</td>\n",
       "      <td>96.280899</td>\n",
       "      <td>75311400</td>\n",
       "    </tr>\n",
       "    <tr>\n",
       "      <th>2016-07-31</th>\n",
       "      <td>104.269997</td>\n",
       "      <td>104.550003</td>\n",
       "      <td>103.680000</td>\n",
       "      <td>104.339996</td>\n",
       "      <td>100.812317</td>\n",
       "      <td>92344800</td>\n",
       "    </tr>\n",
       "    <tr>\n",
       "      <th>2016-08-31</th>\n",
       "      <td>109.629997</td>\n",
       "      <td>110.230003</td>\n",
       "      <td>109.209999</td>\n",
       "      <td>109.480003</td>\n",
       "      <td>106.351570</td>\n",
       "      <td>40553400</td>\n",
       "    </tr>\n",
       "    <tr>\n",
       "      <th>2016-09-30</th>\n",
       "      <td>115.190002</td>\n",
       "      <td>116.180000</td>\n",
       "      <td>114.040001</td>\n",
       "      <td>115.570000</td>\n",
       "      <td>112.267540</td>\n",
       "      <td>110888700</td>\n",
       "    </tr>\n",
       "    <tr>\n",
       "      <th>2016-10-31</th>\n",
       "      <td>118.180000</td>\n",
       "      <td>118.690002</td>\n",
       "      <td>117.449997</td>\n",
       "      <td>118.250000</td>\n",
       "      <td>114.870956</td>\n",
       "      <td>66134200</td>\n",
       "    </tr>\n",
       "    <tr>\n",
       "      <th>2016-11-30</th>\n",
       "      <td>113.459999</td>\n",
       "      <td>113.769997</td>\n",
       "      <td>111.400002</td>\n",
       "      <td>111.800003</td>\n",
       "      <td>109.162872</td>\n",
       "      <td>59176400</td>\n",
       "    </tr>\n",
       "    <tr>\n",
       "      <th>2016-12-31</th>\n",
       "      <td>117.519997</td>\n",
       "      <td>118.019997</td>\n",
       "      <td>116.779999</td>\n",
       "      <td>117.260002</td>\n",
       "      <td>114.494087</td>\n",
       "      <td>46524500</td>\n",
       "    </tr>\n",
       "    <tr>\n",
       "      <th>2017-01-31</th>\n",
       "      <td>122.139999</td>\n",
       "      <td>122.440002</td>\n",
       "      <td>121.599998</td>\n",
       "      <td>121.949997</td>\n",
       "      <td>119.073456</td>\n",
       "      <td>49201000</td>\n",
       "    </tr>\n",
       "    <tr>\n",
       "      <th>2017-02-28</th>\n",
       "      <td>137.380005</td>\n",
       "      <td>137.479996</td>\n",
       "      <td>136.699997</td>\n",
       "      <td>137.110001</td>\n",
       "      <td>134.456299</td>\n",
       "      <td>111985000</td>\n",
       "    </tr>\n",
       "    <tr>\n",
       "      <th>2017-03-31</th>\n",
       "      <td>144.190002</td>\n",
       "      <td>144.500000</td>\n",
       "      <td>143.500000</td>\n",
       "      <td>144.119995</td>\n",
       "      <td>141.330612</td>\n",
       "      <td>43885000</td>\n",
       "    </tr>\n",
       "  </tbody>\n",
       "</table>\n",
       "</div>"
      ],
      "text/plain": [
       "                  Open        High         Low       Close   Adj Close  \\\n",
       "Date                                                                     \n",
       "2016-06-30   99.250000  101.889999   98.959999   99.650002   96.280899   \n",
       "2016-07-31  104.269997  104.550003  103.680000  104.339996  100.812317   \n",
       "2016-08-31  109.629997  110.230003  109.209999  109.480003  106.351570   \n",
       "2016-09-30  115.190002  116.180000  114.040001  115.570000  112.267540   \n",
       "2016-10-31  118.180000  118.690002  117.449997  118.250000  114.870956   \n",
       "2016-11-30  113.459999  113.769997  111.400002  111.800003  109.162872   \n",
       "2016-12-31  117.519997  118.019997  116.779999  117.260002  114.494087   \n",
       "2017-01-31  122.139999  122.440002  121.599998  121.949997  119.073456   \n",
       "2017-02-28  137.380005  137.479996  136.699997  137.110001  134.456299   \n",
       "2017-03-31  144.190002  144.500000  143.500000  144.119995  141.330612   \n",
       "\n",
       "               Volume  \n",
       "Date                   \n",
       "2016-06-30   75311400  \n",
       "2016-07-31   92344800  \n",
       "2016-08-31   40553400  \n",
       "2016-09-30  110888700  \n",
       "2016-10-31   66134200  \n",
       "2016-11-30   59176400  \n",
       "2016-12-31   46524500  \n",
       "2017-01-31   49201000  \n",
       "2017-02-28  111985000  \n",
       "2017-03-31   43885000  "
      ]
     },
     "execution_count": 56,
     "metadata": {},
     "output_type": "execute_result"
    }
   ],
   "source": [
    "montly_data.max()[:10]"
   ]
  },
  {
   "cell_type": "code",
   "execution_count": 57,
   "metadata": {},
   "outputs": [
    {
     "data": {
      "text/html": [
       "<div>\n",
       "<style scoped>\n",
       "    .dataframe tbody tr th:only-of-type {\n",
       "        vertical-align: middle;\n",
       "    }\n",
       "\n",
       "    .dataframe tbody tr th {\n",
       "        vertical-align: top;\n",
       "    }\n",
       "\n",
       "    .dataframe thead th {\n",
       "        text-align: right;\n",
       "    }\n",
       "</style>\n",
       "<table border=\"1\" class=\"dataframe\">\n",
       "  <thead>\n",
       "    <tr style=\"text-align: right;\">\n",
       "      <th></th>\n",
       "      <th>Open</th>\n",
       "      <th>High</th>\n",
       "      <th>Low</th>\n",
       "      <th>Close</th>\n",
       "      <th>Adj Close</th>\n",
       "      <th>Volume</th>\n",
       "    </tr>\n",
       "    <tr>\n",
       "      <th>Date</th>\n",
       "      <th></th>\n",
       "      <th></th>\n",
       "      <th></th>\n",
       "      <th></th>\n",
       "      <th></th>\n",
       "      <th></th>\n",
       "    </tr>\n",
       "  </thead>\n",
       "  <tbody>\n",
       "    <tr>\n",
       "      <th>2016-06-30</th>\n",
       "      <td>92.900002</td>\n",
       "      <td>93.050003</td>\n",
       "      <td>91.500000</td>\n",
       "      <td>92.040001</td>\n",
       "      <td>88.928177</td>\n",
       "      <td>20848100</td>\n",
       "    </tr>\n",
       "    <tr>\n",
       "      <th>2016-07-31</th>\n",
       "      <td>94.599998</td>\n",
       "      <td>95.400002</td>\n",
       "      <td>94.370003</td>\n",
       "      <td>94.989998</td>\n",
       "      <td>91.778442</td>\n",
       "      <td>23779900</td>\n",
       "    </tr>\n",
       "    <tr>\n",
       "      <th>2016-08-31</th>\n",
       "      <td>104.410004</td>\n",
       "      <td>105.839996</td>\n",
       "      <td>104.000000</td>\n",
       "      <td>104.480003</td>\n",
       "      <td>100.947594</td>\n",
       "      <td>18660400</td>\n",
       "    </tr>\n",
       "    <tr>\n",
       "      <th>2016-09-30</th>\n",
       "      <td>102.650002</td>\n",
       "      <td>105.720001</td>\n",
       "      <td>102.529999</td>\n",
       "      <td>103.129997</td>\n",
       "      <td>100.183022</td>\n",
       "      <td>24607400</td>\n",
       "    </tr>\n",
       "    <tr>\n",
       "      <th>2016-10-31</th>\n",
       "      <td>112.709999</td>\n",
       "      <td>113.050003</td>\n",
       "      <td>112.279999</td>\n",
       "      <td>112.519997</td>\n",
       "      <td>109.304688</td>\n",
       "      <td>20034600</td>\n",
       "    </tr>\n",
       "    <tr>\n",
       "      <th>2016-11-30</th>\n",
       "      <td>106.570000</td>\n",
       "      <td>107.680000</td>\n",
       "      <td>104.080002</td>\n",
       "      <td>105.709999</td>\n",
       "      <td>103.216522</td>\n",
       "      <td>11475900</td>\n",
       "    </tr>\n",
       "    <tr>\n",
       "      <th>2016-12-31</th>\n",
       "      <td>109.169998</td>\n",
       "      <td>110.029999</td>\n",
       "      <td>108.250000</td>\n",
       "      <td>109.110001</td>\n",
       "      <td>106.536316</td>\n",
       "      <td>14181200</td>\n",
       "    </tr>\n",
       "    <tr>\n",
       "      <th>2017-01-31</th>\n",
       "      <td>115.800003</td>\n",
       "      <td>116.330002</td>\n",
       "      <td>114.760002</td>\n",
       "      <td>116.019997</td>\n",
       "      <td>113.283333</td>\n",
       "      <td>20562900</td>\n",
       "    </tr>\n",
       "    <tr>\n",
       "      <th>2017-02-28</th>\n",
       "      <td>127.029999</td>\n",
       "      <td>129.190002</td>\n",
       "      <td>127.010002</td>\n",
       "      <td>128.529999</td>\n",
       "      <td>125.498253</td>\n",
       "      <td>20065500</td>\n",
       "    </tr>\n",
       "    <tr>\n",
       "      <th>2017-03-31</th>\n",
       "      <td>137.889999</td>\n",
       "      <td>138.789993</td>\n",
       "      <td>137.050003</td>\n",
       "      <td>138.679993</td>\n",
       "      <td>135.995895</td>\n",
       "      <td>15309100</td>\n",
       "    </tr>\n",
       "  </tbody>\n",
       "</table>\n",
       "</div>"
      ],
      "text/plain": [
       "                  Open        High         Low       Close   Adj Close  \\\n",
       "Date                                                                     \n",
       "2016-06-30   92.900002   93.050003   91.500000   92.040001   88.928177   \n",
       "2016-07-31   94.599998   95.400002   94.370003   94.989998   91.778442   \n",
       "2016-08-31  104.410004  105.839996  104.000000  104.480003  100.947594   \n",
       "2016-09-30  102.650002  105.720001  102.529999  103.129997  100.183022   \n",
       "2016-10-31  112.709999  113.050003  112.279999  112.519997  109.304688   \n",
       "2016-11-30  106.570000  107.680000  104.080002  105.709999  103.216522   \n",
       "2016-12-31  109.169998  110.029999  108.250000  109.110001  106.536316   \n",
       "2017-01-31  115.800003  116.330002  114.760002  116.019997  113.283333   \n",
       "2017-02-28  127.029999  129.190002  127.010002  128.529999  125.498253   \n",
       "2017-03-31  137.889999  138.789993  137.050003  138.679993  135.995895   \n",
       "\n",
       "              Volume  \n",
       "Date                  \n",
       "2016-06-30  20848100  \n",
       "2016-07-31  23779900  \n",
       "2016-08-31  18660400  \n",
       "2016-09-30  24607400  \n",
       "2016-10-31  20034600  \n",
       "2016-11-30  11475900  \n",
       "2016-12-31  14181200  \n",
       "2017-01-31  20562900  \n",
       "2017-02-28  20065500  \n",
       "2017-03-31  15309100  "
      ]
     },
     "execution_count": 57,
     "metadata": {},
     "output_type": "execute_result"
    }
   ],
   "source": [
    "montly_data.min()[:10]"
   ]
  },
  {
   "cell_type": "code",
   "execution_count": 65,
   "metadata": {},
   "outputs": [
    {
     "data": {
      "text/plain": [
       "[<matplotlib.lines.Line2D at 0x119f3c400>]"
      ]
     },
     "execution_count": 65,
     "metadata": {},
     "output_type": "execute_result"
    },
    {
     "data": {
      "image/png": "[encoded data removed]",
      "text/plain": [
       "<matplotlib.figure.Figure at 0x119f3c4a8>"
      ]
     },
     "metadata": {},
     "output_type": "display_data"
    }
   ],
   "source": [
    "# plotting the opening price \n",
    "plt.plot(ts.Open, color = 'grey')\n",
    "plt.plot(ts.Open.resample('M').mean(), color = 'red')"
   ]
  },
  {
   "cell_type": "code",
   "execution_count": 66,
   "metadata": {},
   "outputs": [
    {
     "data": {
      "text/plain": [
       "[<matplotlib.lines.Line2D at 0x11a09b860>]"
      ]
     },
     "execution_count": 66,
     "metadata": {},
     "output_type": "execute_result"
    },
    {
     "data": {
      "image/png": "[encoded data removed]",
      "text/plain": [
       "<matplotlib.figure.Figure at 0x11a09b748>"
      ]
     },
     "metadata": {},
     "output_type": "display_data"
    }
   ],
   "source": [
    "# plotting the closing price \n",
    "plt.plot(ts.Close, color = 'grey')\n",
    "plt.plot(ts.Close.resample('M').mean(), color = 'red')"
   ]
  },
  {
   "cell_type": "code",
   "execution_count": 67,
   "metadata": {},
   "outputs": [
    {
     "data": {
      "text/plain": [
       "[<matplotlib.lines.Line2D at 0x11a11d940>]"
      ]
     },
     "execution_count": 67,
     "metadata": {},
     "output_type": "execute_result"
    },
    {
     "data": {
      "image/png": "[encoded data removed]",
      "text/plain": [
       "<matplotlib.figure.Figure at 0x11a11d8d0>"
      ]
     },
     "metadata": {},
     "output_type": "display_data"
    }
   ],
   "source": [
    "# plotting the quaterly opening price \n",
    "plt.plot(ts.Open, color = 'grey')\n",
    "plt.plot(ts.Open.resample('Q').mean(), color = 'red')"
   ]
  },
  {
   "cell_type": "code",
   "execution_count": 70,
   "metadata": {},
   "outputs": [
    {
     "data": {
      "text/plain": [
       "[<matplotlib.lines.Line2D at 0x11a44b320>]"
      ]
     },
     "execution_count": 70,
     "metadata": {},
     "output_type": "execute_result"
    },
    {
     "data": {
      "image/png": "[encoded data removed]",
      "text/plain": [
       "<matplotlib.figure.Figure at 0x11a44b208>"
      ]
     },
     "metadata": {},
     "output_type": "display_data"
    }
   ],
   "source": [
    "# plotting the quaterly closing price \n",
    "plt.plot(ts.Close, color = 'grey')\n",
    "plt.plot(ts.Close.resample('Q').mean(), color = 'red')"
   ]
  },
  {
   "cell_type": "markdown",
   "metadata": {},
   "source": [
    "## Date Range"
   ]
  },
  {
   "cell_type": "code",
   "execution_count": 74,
   "metadata": {},
   "outputs": [
    {
     "data": {
      "text/plain": [
       "(503, 7)"
      ]
     },
     "execution_count": 74,
     "metadata": {},
     "output_type": "execute_result"
    }
   ],
   "source": [
    "data = pd.read_csv('AAPL.csv', header = 0)\n",
    "data.shape"
   ]
  },
  {
   "cell_type": "code",
   "execution_count": 76,
   "metadata": {},
   "outputs": [
    {
     "data": {
      "text/html": [
       "<div>\n",
       "<style scoped>\n",
       "    .dataframe tbody tr th:only-of-type {\n",
       "        vertical-align: middle;\n",
       "    }\n",
       "\n",
       "    .dataframe tbody tr th {\n",
       "        vertical-align: top;\n",
       "    }\n",
       "\n",
       "    .dataframe thead th {\n",
       "        text-align: right;\n",
       "    }\n",
       "</style>\n",
       "<table border=\"1\" class=\"dataframe\">\n",
       "  <thead>\n",
       "    <tr style=\"text-align: right;\">\n",
       "      <th></th>\n",
       "      <th>Date</th>\n",
       "      <th>Open</th>\n",
       "      <th>High</th>\n",
       "      <th>Low</th>\n",
       "      <th>Close</th>\n",
       "      <th>Adj Close</th>\n",
       "      <th>Volume</th>\n",
       "    </tr>\n",
       "  </thead>\n",
       "  <tbody>\n",
       "    <tr>\n",
       "      <th>0</th>\n",
       "      <td>2016-06-06</td>\n",
       "      <td>97.989998</td>\n",
       "      <td>101.889999</td>\n",
       "      <td>97.550003</td>\n",
       "      <td>98.629997</td>\n",
       "      <td>95.295364</td>\n",
       "      <td>23292500</td>\n",
       "    </tr>\n",
       "    <tr>\n",
       "      <th>1</th>\n",
       "      <td>2016-06-07</td>\n",
       "      <td>99.250000</td>\n",
       "      <td>99.870003</td>\n",
       "      <td>98.959999</td>\n",
       "      <td>99.029999</td>\n",
       "      <td>95.681847</td>\n",
       "      <td>22409500</td>\n",
       "    </tr>\n",
       "    <tr>\n",
       "      <th>2</th>\n",
       "      <td>2016-06-08</td>\n",
       "      <td>99.019997</td>\n",
       "      <td>99.559998</td>\n",
       "      <td>98.680000</td>\n",
       "      <td>98.940002</td>\n",
       "      <td>95.594902</td>\n",
       "      <td>20848100</td>\n",
       "    </tr>\n",
       "    <tr>\n",
       "      <th>3</th>\n",
       "      <td>2016-06-09</td>\n",
       "      <td>98.500000</td>\n",
       "      <td>99.989998</td>\n",
       "      <td>98.459999</td>\n",
       "      <td>99.650002</td>\n",
       "      <td>96.280899</td>\n",
       "      <td>26601400</td>\n",
       "    </tr>\n",
       "    <tr>\n",
       "      <th>4</th>\n",
       "      <td>2016-06-10</td>\n",
       "      <td>98.529999</td>\n",
       "      <td>99.349998</td>\n",
       "      <td>98.480003</td>\n",
       "      <td>98.830002</td>\n",
       "      <td>95.488617</td>\n",
       "      <td>31712900</td>\n",
       "    </tr>\n",
       "  </tbody>\n",
       "</table>\n",
       "</div>"
      ],
      "text/plain": [
       "         Date       Open        High        Low      Close  Adj Close  \\\n",
       "0  2016-06-06  97.989998  101.889999  97.550003  98.629997  95.295364   \n",
       "1  2016-06-07  99.250000   99.870003  98.959999  99.029999  95.681847   \n",
       "2  2016-06-08  99.019997   99.559998  98.680000  98.940002  95.594902   \n",
       "3  2016-06-09  98.500000   99.989998  98.459999  99.650002  96.280899   \n",
       "4  2016-06-10  98.529999   99.349998  98.480003  98.830002  95.488617   \n",
       "\n",
       "     Volume  \n",
       "0  23292500  \n",
       "1  22409500  \n",
       "2  20848100  \n",
       "3  26601400  \n",
       "4  31712900  "
      ]
     },
     "execution_count": 76,
     "metadata": {},
     "output_type": "execute_result"
    }
   ],
   "source": [
    "data.head()"
   ]
  },
  {
   "cell_type": "code",
   "execution_count": 80,
   "metadata": {},
   "outputs": [],
   "source": [
    "# removing the first columns i.e Date from the dataset \n",
    "data = data.drop(columns = ['Date'])"
   ]
  },
  {
   "cell_type": "code",
   "execution_count": 81,
   "metadata": {},
   "outputs": [
    {
     "data": {
      "text/html": [
       "<div>\n",
       "<style scoped>\n",
       "    .dataframe tbody tr th:only-of-type {\n",
       "        vertical-align: middle;\n",
       "    }\n",
       "\n",
       "    .dataframe tbody tr th {\n",
       "        vertical-align: top;\n",
       "    }\n",
       "\n",
       "    .dataframe thead th {\n",
       "        text-align: right;\n",
       "    }\n",
       "</style>\n",
       "<table border=\"1\" class=\"dataframe\">\n",
       "  <thead>\n",
       "    <tr style=\"text-align: right;\">\n",
       "      <th></th>\n",
       "      <th>Open</th>\n",
       "      <th>High</th>\n",
       "      <th>Low</th>\n",
       "      <th>Close</th>\n",
       "      <th>Adj Close</th>\n",
       "      <th>Volume</th>\n",
       "    </tr>\n",
       "  </thead>\n",
       "  <tbody>\n",
       "    <tr>\n",
       "      <th>0</th>\n",
       "      <td>97.989998</td>\n",
       "      <td>101.889999</td>\n",
       "      <td>97.550003</td>\n",
       "      <td>98.629997</td>\n",
       "      <td>95.295364</td>\n",
       "      <td>23292500</td>\n",
       "    </tr>\n",
       "    <tr>\n",
       "      <th>1</th>\n",
       "      <td>99.250000</td>\n",
       "      <td>99.870003</td>\n",
       "      <td>98.959999</td>\n",
       "      <td>99.029999</td>\n",
       "      <td>95.681847</td>\n",
       "      <td>22409500</td>\n",
       "    </tr>\n",
       "    <tr>\n",
       "      <th>2</th>\n",
       "      <td>99.019997</td>\n",
       "      <td>99.559998</td>\n",
       "      <td>98.680000</td>\n",
       "      <td>98.940002</td>\n",
       "      <td>95.594902</td>\n",
       "      <td>20848100</td>\n",
       "    </tr>\n",
       "    <tr>\n",
       "      <th>3</th>\n",
       "      <td>98.500000</td>\n",
       "      <td>99.989998</td>\n",
       "      <td>98.459999</td>\n",
       "      <td>99.650002</td>\n",
       "      <td>96.280899</td>\n",
       "      <td>26601400</td>\n",
       "    </tr>\n",
       "    <tr>\n",
       "      <th>4</th>\n",
       "      <td>98.529999</td>\n",
       "      <td>99.349998</td>\n",
       "      <td>98.480003</td>\n",
       "      <td>98.830002</td>\n",
       "      <td>95.488617</td>\n",
       "      <td>31712900</td>\n",
       "    </tr>\n",
       "  </tbody>\n",
       "</table>\n",
       "</div>"
      ],
      "text/plain": [
       "        Open        High        Low      Close  Adj Close    Volume\n",
       "0  97.989998  101.889999  97.550003  98.629997  95.295364  23292500\n",
       "1  99.250000   99.870003  98.959999  99.029999  95.681847  22409500\n",
       "2  99.019997   99.559998  98.680000  98.940002  95.594902  20848100\n",
       "3  98.500000   99.989998  98.459999  99.650002  96.280899  26601400\n",
       "4  98.529999   99.349998  98.480003  98.830002  95.488617  31712900"
      ]
     },
     "execution_count": 81,
     "metadata": {},
     "output_type": "execute_result"
    }
   ],
   "source": [
    "data.head()"
   ]
  },
  {
   "cell_type": "code",
   "execution_count": 96,
   "metadata": {},
   "outputs": [
    {
     "data": {
      "text/plain": [
       "503"
      ]
     },
     "execution_count": 96,
     "metadata": {},
     "output_type": "execute_result"
    }
   ],
   "source": [
    "# adding a custom date-time index to our dataset\n",
    "rng = pd.date_range(start = '2016-06-06', freq = 'B', periods = 503 )\n",
    "len(rng)"
   ]
  },
  {
   "cell_type": "code",
   "execution_count": 97,
   "metadata": {},
   "outputs": [],
   "source": [
    "data = data.set_index(rng, inplace = False)"
   ]
  },
  {
   "cell_type": "code",
   "execution_count": 98,
   "metadata": {},
   "outputs": [
    {
     "data": {
      "text/html": [
       "<div>\n",
       "<style scoped>\n",
       "    .dataframe tbody tr th:only-of-type {\n",
       "        vertical-align: middle;\n",
       "    }\n",
       "\n",
       "    .dataframe tbody tr th {\n",
       "        vertical-align: top;\n",
       "    }\n",
       "\n",
       "    .dataframe thead th {\n",
       "        text-align: right;\n",
       "    }\n",
       "</style>\n",
       "<table border=\"1\" class=\"dataframe\">\n",
       "  <thead>\n",
       "    <tr style=\"text-align: right;\">\n",
       "      <th></th>\n",
       "      <th>Open</th>\n",
       "      <th>High</th>\n",
       "      <th>Low</th>\n",
       "      <th>Close</th>\n",
       "      <th>Adj Close</th>\n",
       "      <th>Volume</th>\n",
       "    </tr>\n",
       "  </thead>\n",
       "  <tbody>\n",
       "    <tr>\n",
       "      <th>2016-06-06</th>\n",
       "      <td>97.989998</td>\n",
       "      <td>101.889999</td>\n",
       "      <td>97.550003</td>\n",
       "      <td>98.629997</td>\n",
       "      <td>95.295364</td>\n",
       "      <td>23292500</td>\n",
       "    </tr>\n",
       "    <tr>\n",
       "      <th>2016-06-07</th>\n",
       "      <td>99.250000</td>\n",
       "      <td>99.870003</td>\n",
       "      <td>98.959999</td>\n",
       "      <td>99.029999</td>\n",
       "      <td>95.681847</td>\n",
       "      <td>22409500</td>\n",
       "    </tr>\n",
       "    <tr>\n",
       "      <th>2016-06-08</th>\n",
       "      <td>99.019997</td>\n",
       "      <td>99.559998</td>\n",
       "      <td>98.680000</td>\n",
       "      <td>98.940002</td>\n",
       "      <td>95.594902</td>\n",
       "      <td>20848100</td>\n",
       "    </tr>\n",
       "    <tr>\n",
       "      <th>2016-06-09</th>\n",
       "      <td>98.500000</td>\n",
       "      <td>99.989998</td>\n",
       "      <td>98.459999</td>\n",
       "      <td>99.650002</td>\n",
       "      <td>96.280899</td>\n",
       "      <td>26601400</td>\n",
       "    </tr>\n",
       "    <tr>\n",
       "      <th>2016-06-10</th>\n",
       "      <td>98.529999</td>\n",
       "      <td>99.349998</td>\n",
       "      <td>98.480003</td>\n",
       "      <td>98.830002</td>\n",
       "      <td>95.488617</td>\n",
       "      <td>31712900</td>\n",
       "    </tr>\n",
       "  </tbody>\n",
       "</table>\n",
       "</div>"
      ],
      "text/plain": [
       "                 Open        High        Low      Close  Adj Close    Volume\n",
       "2016-06-06  97.989998  101.889999  97.550003  98.629997  95.295364  23292500\n",
       "2016-06-07  99.250000   99.870003  98.959999  99.029999  95.681847  22409500\n",
       "2016-06-08  99.019997   99.559998  98.680000  98.940002  95.594902  20848100\n",
       "2016-06-09  98.500000   99.989998  98.459999  99.650002  96.280899  26601400\n",
       "2016-06-10  98.529999   99.349998  98.480003  98.830002  95.488617  31712900"
      ]
     },
     "execution_count": 98,
     "metadata": {},
     "output_type": "execute_result"
    }
   ],
   "source": [
    "data.head()"
   ]
  },
  {
   "cell_type": "code",
   "execution_count": 104,
   "metadata": {},
   "outputs": [
    {
     "data": {
      "text/html": [
       "<div>\n",
       "<style scoped>\n",
       "    .dataframe tbody tr th:only-of-type {\n",
       "        vertical-align: middle;\n",
       "    }\n",
       "\n",
       "    .dataframe tbody tr th {\n",
       "        vertical-align: top;\n",
       "    }\n",
       "\n",
       "    .dataframe thead th {\n",
       "        text-align: right;\n",
       "    }\n",
       "</style>\n",
       "<table border=\"1\" class=\"dataframe\">\n",
       "  <thead>\n",
       "    <tr style=\"text-align: right;\">\n",
       "      <th></th>\n",
       "      <th>Open</th>\n",
       "      <th>High</th>\n",
       "      <th>Low</th>\n",
       "      <th>Close</th>\n",
       "      <th>Adj Close</th>\n",
       "      <th>Volume</th>\n",
       "    </tr>\n",
       "  </thead>\n",
       "  <tbody>\n",
       "    <tr>\n",
       "      <th>2016-06-06</th>\n",
       "      <td>97.989998</td>\n",
       "      <td>101.889999</td>\n",
       "      <td>97.550003</td>\n",
       "      <td>98.629997</td>\n",
       "      <td>95.295364</td>\n",
       "      <td>23292500</td>\n",
       "    </tr>\n",
       "    <tr>\n",
       "      <th>2016-06-07</th>\n",
       "      <td>99.250000</td>\n",
       "      <td>99.870003</td>\n",
       "      <td>98.959999</td>\n",
       "      <td>99.029999</td>\n",
       "      <td>95.681847</td>\n",
       "      <td>22409500</td>\n",
       "    </tr>\n",
       "    <tr>\n",
       "      <th>2016-06-08</th>\n",
       "      <td>99.019997</td>\n",
       "      <td>99.559998</td>\n",
       "      <td>98.680000</td>\n",
       "      <td>98.940002</td>\n",
       "      <td>95.594902</td>\n",
       "      <td>20848100</td>\n",
       "    </tr>\n",
       "    <tr>\n",
       "      <th>2016-06-09</th>\n",
       "      <td>98.500000</td>\n",
       "      <td>99.989998</td>\n",
       "      <td>98.459999</td>\n",
       "      <td>99.650002</td>\n",
       "      <td>96.280899</td>\n",
       "      <td>26601400</td>\n",
       "    </tr>\n",
       "    <tr>\n",
       "      <th>2016-06-10</th>\n",
       "      <td>98.529999</td>\n",
       "      <td>99.349998</td>\n",
       "      <td>98.480003</td>\n",
       "      <td>98.830002</td>\n",
       "      <td>95.488617</td>\n",
       "      <td>31712900</td>\n",
       "    </tr>\n",
       "    <tr>\n",
       "      <th>2016-06-11</th>\n",
       "      <td>98.529999</td>\n",
       "      <td>99.349998</td>\n",
       "      <td>98.480003</td>\n",
       "      <td>98.830002</td>\n",
       "      <td>95.488617</td>\n",
       "      <td>31712900</td>\n",
       "    </tr>\n",
       "    <tr>\n",
       "      <th>2016-06-12</th>\n",
       "      <td>98.529999</td>\n",
       "      <td>99.349998</td>\n",
       "      <td>98.480003</td>\n",
       "      <td>98.830002</td>\n",
       "      <td>95.488617</td>\n",
       "      <td>31712900</td>\n",
       "    </tr>\n",
       "    <tr>\n",
       "      <th>2016-06-13</th>\n",
       "      <td>98.690002</td>\n",
       "      <td>99.120003</td>\n",
       "      <td>97.099998</td>\n",
       "      <td>97.339996</td>\n",
       "      <td>94.048996</td>\n",
       "      <td>38020500</td>\n",
       "    </tr>\n",
       "    <tr>\n",
       "      <th>2016-06-14</th>\n",
       "      <td>97.320000</td>\n",
       "      <td>98.480003</td>\n",
       "      <td>96.750000</td>\n",
       "      <td>97.459999</td>\n",
       "      <td>94.164932</td>\n",
       "      <td>31931900</td>\n",
       "    </tr>\n",
       "    <tr>\n",
       "      <th>2016-06-15</th>\n",
       "      <td>97.820000</td>\n",
       "      <td>98.410004</td>\n",
       "      <td>97.029999</td>\n",
       "      <td>97.139999</td>\n",
       "      <td>93.855766</td>\n",
       "      <td>29445200</td>\n",
       "    </tr>\n",
       "    <tr>\n",
       "      <th>2016-06-16</th>\n",
       "      <td>96.449997</td>\n",
       "      <td>97.750000</td>\n",
       "      <td>96.070000</td>\n",
       "      <td>97.550003</td>\n",
       "      <td>94.251892</td>\n",
       "      <td>31326800</td>\n",
       "    </tr>\n",
       "    <tr>\n",
       "      <th>2016-06-17</th>\n",
       "      <td>96.620003</td>\n",
       "      <td>96.650002</td>\n",
       "      <td>95.300003</td>\n",
       "      <td>95.330002</td>\n",
       "      <td>92.106941</td>\n",
       "      <td>61008200</td>\n",
       "    </tr>\n",
       "    <tr>\n",
       "      <th>2016-06-18</th>\n",
       "      <td>96.620003</td>\n",
       "      <td>96.650002</td>\n",
       "      <td>95.300003</td>\n",
       "      <td>95.330002</td>\n",
       "      <td>92.106941</td>\n",
       "      <td>61008200</td>\n",
       "    </tr>\n",
       "    <tr>\n",
       "      <th>2016-06-19</th>\n",
       "      <td>96.620003</td>\n",
       "      <td>96.650002</td>\n",
       "      <td>95.300003</td>\n",
       "      <td>95.330002</td>\n",
       "      <td>92.106941</td>\n",
       "      <td>61008200</td>\n",
       "    </tr>\n",
       "    <tr>\n",
       "      <th>2016-06-20</th>\n",
       "      <td>96.000000</td>\n",
       "      <td>96.570000</td>\n",
       "      <td>95.029999</td>\n",
       "      <td>95.099998</td>\n",
       "      <td>91.884720</td>\n",
       "      <td>34411900</td>\n",
       "    </tr>\n",
       "  </tbody>\n",
       "</table>\n",
       "</div>"
      ],
      "text/plain": [
       "                 Open        High        Low      Close  Adj Close    Volume\n",
       "2016-06-06  97.989998  101.889999  97.550003  98.629997  95.295364  23292500\n",
       "2016-06-07  99.250000   99.870003  98.959999  99.029999  95.681847  22409500\n",
       "2016-06-08  99.019997   99.559998  98.680000  98.940002  95.594902  20848100\n",
       "2016-06-09  98.500000   99.989998  98.459999  99.650002  96.280899  26601400\n",
       "2016-06-10  98.529999   99.349998  98.480003  98.830002  95.488617  31712900\n",
       "2016-06-11  98.529999   99.349998  98.480003  98.830002  95.488617  31712900\n",
       "2016-06-12  98.529999   99.349998  98.480003  98.830002  95.488617  31712900\n",
       "2016-06-13  98.690002   99.120003  97.099998  97.339996  94.048996  38020500\n",
       "2016-06-14  97.320000   98.480003  96.750000  97.459999  94.164932  31931900\n",
       "2016-06-15  97.820000   98.410004  97.029999  97.139999  93.855766  29445200\n",
       "2016-06-16  96.449997   97.750000  96.070000  97.550003  94.251892  31326800\n",
       "2016-06-17  96.620003   96.650002  95.300003  95.330002  92.106941  61008200\n",
       "2016-06-18  96.620003   96.650002  95.300003  95.330002  92.106941  61008200\n",
       "2016-06-19  96.620003   96.650002  95.300003  95.330002  92.106941  61008200\n",
       "2016-06-20  96.000000   96.570000  95.029999  95.099998  91.884720  34411900"
      ]
     },
     "execution_count": 104,
     "metadata": {},
     "output_type": "execute_result"
    }
   ],
   "source": [
    "# Padding the dataset to fill the empty values of weekend dates\n",
    "data.asfreq('D', method = 'pad')[:15]"
   ]
  },
  {
   "cell_type": "code",
   "execution_count": 105,
   "metadata": {},
   "outputs": [
    {
     "data": {
      "text/html": [
       "<div>\n",
       "<style scoped>\n",
       "    .dataframe tbody tr th:only-of-type {\n",
       "        vertical-align: middle;\n",
       "    }\n",
       "\n",
       "    .dataframe tbody tr th {\n",
       "        vertical-align: top;\n",
       "    }\n",
       "\n",
       "    .dataframe thead th {\n",
       "        text-align: right;\n",
       "    }\n",
       "</style>\n",
       "<table border=\"1\" class=\"dataframe\">\n",
       "  <thead>\n",
       "    <tr style=\"text-align: right;\">\n",
       "      <th></th>\n",
       "      <th>Open</th>\n",
       "      <th>High</th>\n",
       "      <th>Low</th>\n",
       "      <th>Close</th>\n",
       "      <th>Adj Close</th>\n",
       "      <th>Volume</th>\n",
       "    </tr>\n",
       "  </thead>\n",
       "  <tbody>\n",
       "    <tr>\n",
       "      <th>2016-06-06</th>\n",
       "      <td>97.989998</td>\n",
       "      <td>101.889999</td>\n",
       "      <td>97.550003</td>\n",
       "      <td>98.629997</td>\n",
       "      <td>95.295364</td>\n",
       "      <td>23292500.0</td>\n",
       "    </tr>\n",
       "    <tr>\n",
       "      <th>2016-06-07</th>\n",
       "      <td>99.250000</td>\n",
       "      <td>99.870003</td>\n",
       "      <td>98.959999</td>\n",
       "      <td>99.029999</td>\n",
       "      <td>95.681847</td>\n",
       "      <td>22409500.0</td>\n",
       "    </tr>\n",
       "    <tr>\n",
       "      <th>2016-06-08</th>\n",
       "      <td>99.019997</td>\n",
       "      <td>99.559998</td>\n",
       "      <td>98.680000</td>\n",
       "      <td>98.940002</td>\n",
       "      <td>95.594902</td>\n",
       "      <td>20848100.0</td>\n",
       "    </tr>\n",
       "    <tr>\n",
       "      <th>2016-06-09</th>\n",
       "      <td>98.500000</td>\n",
       "      <td>99.989998</td>\n",
       "      <td>98.459999</td>\n",
       "      <td>99.650002</td>\n",
       "      <td>96.280899</td>\n",
       "      <td>26601400.0</td>\n",
       "    </tr>\n",
       "    <tr>\n",
       "      <th>2016-06-10</th>\n",
       "      <td>98.529999</td>\n",
       "      <td>99.349998</td>\n",
       "      <td>98.480003</td>\n",
       "      <td>98.830002</td>\n",
       "      <td>95.488617</td>\n",
       "      <td>31712900.0</td>\n",
       "    </tr>\n",
       "    <tr>\n",
       "      <th>2016-06-11</th>\n",
       "      <td>NaN</td>\n",
       "      <td>NaN</td>\n",
       "      <td>NaN</td>\n",
       "      <td>NaN</td>\n",
       "      <td>NaN</td>\n",
       "      <td>NaN</td>\n",
       "    </tr>\n",
       "    <tr>\n",
       "      <th>2016-06-12</th>\n",
       "      <td>NaN</td>\n",
       "      <td>NaN</td>\n",
       "      <td>NaN</td>\n",
       "      <td>NaN</td>\n",
       "      <td>NaN</td>\n",
       "      <td>NaN</td>\n",
       "    </tr>\n",
       "    <tr>\n",
       "      <th>2016-06-13</th>\n",
       "      <td>98.690002</td>\n",
       "      <td>99.120003</td>\n",
       "      <td>97.099998</td>\n",
       "      <td>97.339996</td>\n",
       "      <td>94.048996</td>\n",
       "      <td>38020500.0</td>\n",
       "    </tr>\n",
       "    <tr>\n",
       "      <th>2016-06-14</th>\n",
       "      <td>97.320000</td>\n",
       "      <td>98.480003</td>\n",
       "      <td>96.750000</td>\n",
       "      <td>97.459999</td>\n",
       "      <td>94.164932</td>\n",
       "      <td>31931900.0</td>\n",
       "    </tr>\n",
       "    <tr>\n",
       "      <th>2016-06-15</th>\n",
       "      <td>97.820000</td>\n",
       "      <td>98.410004</td>\n",
       "      <td>97.029999</td>\n",
       "      <td>97.139999</td>\n",
       "      <td>93.855766</td>\n",
       "      <td>29445200.0</td>\n",
       "    </tr>\n",
       "    <tr>\n",
       "      <th>2016-06-16</th>\n",
       "      <td>96.449997</td>\n",
       "      <td>97.750000</td>\n",
       "      <td>96.070000</td>\n",
       "      <td>97.550003</td>\n",
       "      <td>94.251892</td>\n",
       "      <td>31326800.0</td>\n",
       "    </tr>\n",
       "    <tr>\n",
       "      <th>2016-06-17</th>\n",
       "      <td>96.620003</td>\n",
       "      <td>96.650002</td>\n",
       "      <td>95.300003</td>\n",
       "      <td>95.330002</td>\n",
       "      <td>92.106941</td>\n",
       "      <td>61008200.0</td>\n",
       "    </tr>\n",
       "    <tr>\n",
       "      <th>2016-06-18</th>\n",
       "      <td>NaN</td>\n",
       "      <td>NaN</td>\n",
       "      <td>NaN</td>\n",
       "      <td>NaN</td>\n",
       "      <td>NaN</td>\n",
       "      <td>NaN</td>\n",
       "    </tr>\n",
       "    <tr>\n",
       "      <th>2016-06-19</th>\n",
       "      <td>NaN</td>\n",
       "      <td>NaN</td>\n",
       "      <td>NaN</td>\n",
       "      <td>NaN</td>\n",
       "      <td>NaN</td>\n",
       "      <td>NaN</td>\n",
       "    </tr>\n",
       "    <tr>\n",
       "      <th>2016-06-20</th>\n",
       "      <td>96.000000</td>\n",
       "      <td>96.570000</td>\n",
       "      <td>95.029999</td>\n",
       "      <td>95.099998</td>\n",
       "      <td>91.884720</td>\n",
       "      <td>34411900.0</td>\n",
       "    </tr>\n",
       "  </tbody>\n",
       "</table>\n",
       "</div>"
      ],
      "text/plain": [
       "                 Open        High        Low      Close  Adj Close      Volume\n",
       "2016-06-06  97.989998  101.889999  97.550003  98.629997  95.295364  23292500.0\n",
       "2016-06-07  99.250000   99.870003  98.959999  99.029999  95.681847  22409500.0\n",
       "2016-06-08  99.019997   99.559998  98.680000  98.940002  95.594902  20848100.0\n",
       "2016-06-09  98.500000   99.989998  98.459999  99.650002  96.280899  26601400.0\n",
       "2016-06-10  98.529999   99.349998  98.480003  98.830002  95.488617  31712900.0\n",
       "2016-06-11        NaN         NaN        NaN        NaN        NaN         NaN\n",
       "2016-06-12        NaN         NaN        NaN        NaN        NaN         NaN\n",
       "2016-06-13  98.690002   99.120003  97.099998  97.339996  94.048996  38020500.0\n",
       "2016-06-14  97.320000   98.480003  96.750000  97.459999  94.164932  31931900.0\n",
       "2016-06-15  97.820000   98.410004  97.029999  97.139999  93.855766  29445200.0\n",
       "2016-06-16  96.449997   97.750000  96.070000  97.550003  94.251892  31326800.0\n",
       "2016-06-17  96.620003   96.650002  95.300003  95.330002  92.106941  61008200.0\n",
       "2016-06-18        NaN         NaN        NaN        NaN        NaN         NaN\n",
       "2016-06-19        NaN         NaN        NaN        NaN        NaN         NaN\n",
       "2016-06-20  96.000000   96.570000  95.029999  95.099998  91.884720  34411900.0"
      ]
     },
     "execution_count": 105,
     "metadata": {},
     "output_type": "execute_result"
    }
   ],
   "source": [
    "# Setting method to None\n",
    "data.asfreq('D')[:15]"
   ]
  },
  {
   "cell_type": "code",
   "execution_count": 106,
   "metadata": {},
   "outputs": [
    {
     "data": {
      "text/html": [
       "<div>\n",
       "<style scoped>\n",
       "    .dataframe tbody tr th:only-of-type {\n",
       "        vertical-align: middle;\n",
       "    }\n",
       "\n",
       "    .dataframe tbody tr th {\n",
       "        vertical-align: top;\n",
       "    }\n",
       "\n",
       "    .dataframe thead th {\n",
       "        text-align: right;\n",
       "    }\n",
       "</style>\n",
       "<table border=\"1\" class=\"dataframe\">\n",
       "  <thead>\n",
       "    <tr style=\"text-align: right;\">\n",
       "      <th></th>\n",
       "      <th>Open</th>\n",
       "      <th>High</th>\n",
       "      <th>Low</th>\n",
       "      <th>Close</th>\n",
       "      <th>Adj Close</th>\n",
       "      <th>Volume</th>\n",
       "    </tr>\n",
       "  </thead>\n",
       "  <tbody>\n",
       "    <tr>\n",
       "      <th>2016-06-06</th>\n",
       "      <td>97.989998</td>\n",
       "      <td>101.889999</td>\n",
       "      <td>97.550003</td>\n",
       "      <td>98.629997</td>\n",
       "      <td>95.295364</td>\n",
       "      <td>23292500</td>\n",
       "    </tr>\n",
       "    <tr>\n",
       "      <th>2016-06-07</th>\n",
       "      <td>99.250000</td>\n",
       "      <td>99.870003</td>\n",
       "      <td>98.959999</td>\n",
       "      <td>99.029999</td>\n",
       "      <td>95.681847</td>\n",
       "      <td>22409500</td>\n",
       "    </tr>\n",
       "    <tr>\n",
       "      <th>2016-06-08</th>\n",
       "      <td>99.019997</td>\n",
       "      <td>99.559998</td>\n",
       "      <td>98.680000</td>\n",
       "      <td>98.940002</td>\n",
       "      <td>95.594902</td>\n",
       "      <td>20848100</td>\n",
       "    </tr>\n",
       "    <tr>\n",
       "      <th>2016-06-09</th>\n",
       "      <td>98.500000</td>\n",
       "      <td>99.989998</td>\n",
       "      <td>98.459999</td>\n",
       "      <td>99.650002</td>\n",
       "      <td>96.280899</td>\n",
       "      <td>26601400</td>\n",
       "    </tr>\n",
       "    <tr>\n",
       "      <th>2016-06-10</th>\n",
       "      <td>98.529999</td>\n",
       "      <td>99.349998</td>\n",
       "      <td>98.480003</td>\n",
       "      <td>98.830002</td>\n",
       "      <td>95.488617</td>\n",
       "      <td>31712900</td>\n",
       "    </tr>\n",
       "    <tr>\n",
       "      <th>2016-06-11</th>\n",
       "      <td>98.690002</td>\n",
       "      <td>99.120003</td>\n",
       "      <td>97.099998</td>\n",
       "      <td>97.339996</td>\n",
       "      <td>94.048996</td>\n",
       "      <td>38020500</td>\n",
       "    </tr>\n",
       "    <tr>\n",
       "      <th>2016-06-12</th>\n",
       "      <td>98.690002</td>\n",
       "      <td>99.120003</td>\n",
       "      <td>97.099998</td>\n",
       "      <td>97.339996</td>\n",
       "      <td>94.048996</td>\n",
       "      <td>38020500</td>\n",
       "    </tr>\n",
       "    <tr>\n",
       "      <th>2016-06-13</th>\n",
       "      <td>98.690002</td>\n",
       "      <td>99.120003</td>\n",
       "      <td>97.099998</td>\n",
       "      <td>97.339996</td>\n",
       "      <td>94.048996</td>\n",
       "      <td>38020500</td>\n",
       "    </tr>\n",
       "    <tr>\n",
       "      <th>2016-06-14</th>\n",
       "      <td>97.320000</td>\n",
       "      <td>98.480003</td>\n",
       "      <td>96.750000</td>\n",
       "      <td>97.459999</td>\n",
       "      <td>94.164932</td>\n",
       "      <td>31931900</td>\n",
       "    </tr>\n",
       "    <tr>\n",
       "      <th>2016-06-15</th>\n",
       "      <td>97.820000</td>\n",
       "      <td>98.410004</td>\n",
       "      <td>97.029999</td>\n",
       "      <td>97.139999</td>\n",
       "      <td>93.855766</td>\n",
       "      <td>29445200</td>\n",
       "    </tr>\n",
       "    <tr>\n",
       "      <th>2016-06-16</th>\n",
       "      <td>96.449997</td>\n",
       "      <td>97.750000</td>\n",
       "      <td>96.070000</td>\n",
       "      <td>97.550003</td>\n",
       "      <td>94.251892</td>\n",
       "      <td>31326800</td>\n",
       "    </tr>\n",
       "    <tr>\n",
       "      <th>2016-06-17</th>\n",
       "      <td>96.620003</td>\n",
       "      <td>96.650002</td>\n",
       "      <td>95.300003</td>\n",
       "      <td>95.330002</td>\n",
       "      <td>92.106941</td>\n",
       "      <td>61008200</td>\n",
       "    </tr>\n",
       "    <tr>\n",
       "      <th>2016-06-18</th>\n",
       "      <td>96.000000</td>\n",
       "      <td>96.570000</td>\n",
       "      <td>95.029999</td>\n",
       "      <td>95.099998</td>\n",
       "      <td>91.884720</td>\n",
       "      <td>34411900</td>\n",
       "    </tr>\n",
       "    <tr>\n",
       "      <th>2016-06-19</th>\n",
       "      <td>96.000000</td>\n",
       "      <td>96.570000</td>\n",
       "      <td>95.029999</td>\n",
       "      <td>95.099998</td>\n",
       "      <td>91.884720</td>\n",
       "      <td>34411900</td>\n",
       "    </tr>\n",
       "    <tr>\n",
       "      <th>2016-06-20</th>\n",
       "      <td>96.000000</td>\n",
       "      <td>96.570000</td>\n",
       "      <td>95.029999</td>\n",
       "      <td>95.099998</td>\n",
       "      <td>91.884720</td>\n",
       "      <td>34411900</td>\n",
       "    </tr>\n",
       "  </tbody>\n",
       "</table>\n",
       "</div>"
      ],
      "text/plain": [
       "                 Open        High        Low      Close  Adj Close    Volume\n",
       "2016-06-06  97.989998  101.889999  97.550003  98.629997  95.295364  23292500\n",
       "2016-06-07  99.250000   99.870003  98.959999  99.029999  95.681847  22409500\n",
       "2016-06-08  99.019997   99.559998  98.680000  98.940002  95.594902  20848100\n",
       "2016-06-09  98.500000   99.989998  98.459999  99.650002  96.280899  26601400\n",
       "2016-06-10  98.529999   99.349998  98.480003  98.830002  95.488617  31712900\n",
       "2016-06-11  98.690002   99.120003  97.099998  97.339996  94.048996  38020500\n",
       "2016-06-12  98.690002   99.120003  97.099998  97.339996  94.048996  38020500\n",
       "2016-06-13  98.690002   99.120003  97.099998  97.339996  94.048996  38020500\n",
       "2016-06-14  97.320000   98.480003  96.750000  97.459999  94.164932  31931900\n",
       "2016-06-15  97.820000   98.410004  97.029999  97.139999  93.855766  29445200\n",
       "2016-06-16  96.449997   97.750000  96.070000  97.550003  94.251892  31326800\n",
       "2016-06-17  96.620003   96.650002  95.300003  95.330002  92.106941  61008200\n",
       "2016-06-18  96.000000   96.570000  95.029999  95.099998  91.884720  34411900\n",
       "2016-06-19  96.000000   96.570000  95.029999  95.099998  91.884720  34411900\n",
       "2016-06-20  96.000000   96.570000  95.029999  95.099998  91.884720  34411900"
      ]
     },
     "execution_count": 106,
     "metadata": {},
     "output_type": "execute_result"
    }
   ],
   "source": [
    "# Setting method to \"backward fill\" - bfill\n",
    "data.asfreq('D', method = 'bfill')[:15]"
   ]
  },
  {
   "cell_type": "code",
   "execution_count": 107,
   "metadata": {},
   "outputs": [
    {
     "data": {
      "text/html": [
       "<div>\n",
       "<style scoped>\n",
       "    .dataframe tbody tr th:only-of-type {\n",
       "        vertical-align: middle;\n",
       "    }\n",
       "\n",
       "    .dataframe tbody tr th {\n",
       "        vertical-align: top;\n",
       "    }\n",
       "\n",
       "    .dataframe thead th {\n",
       "        text-align: right;\n",
       "    }\n",
       "</style>\n",
       "<table border=\"1\" class=\"dataframe\">\n",
       "  <thead>\n",
       "    <tr style=\"text-align: right;\">\n",
       "      <th></th>\n",
       "      <th>Open</th>\n",
       "      <th>High</th>\n",
       "      <th>Low</th>\n",
       "      <th>Close</th>\n",
       "      <th>Adj Close</th>\n",
       "      <th>Volume</th>\n",
       "    </tr>\n",
       "  </thead>\n",
       "  <tbody>\n",
       "    <tr>\n",
       "      <th>2016-06-06</th>\n",
       "      <td>97.989998</td>\n",
       "      <td>101.889999</td>\n",
       "      <td>97.550003</td>\n",
       "      <td>98.629997</td>\n",
       "      <td>95.295364</td>\n",
       "      <td>23292500</td>\n",
       "    </tr>\n",
       "    <tr>\n",
       "      <th>2016-06-07</th>\n",
       "      <td>99.250000</td>\n",
       "      <td>99.870003</td>\n",
       "      <td>98.959999</td>\n",
       "      <td>99.029999</td>\n",
       "      <td>95.681847</td>\n",
       "      <td>22409500</td>\n",
       "    </tr>\n",
       "    <tr>\n",
       "      <th>2016-06-08</th>\n",
       "      <td>99.019997</td>\n",
       "      <td>99.559998</td>\n",
       "      <td>98.680000</td>\n",
       "      <td>98.940002</td>\n",
       "      <td>95.594902</td>\n",
       "      <td>20848100</td>\n",
       "    </tr>\n",
       "    <tr>\n",
       "      <th>2016-06-09</th>\n",
       "      <td>98.500000</td>\n",
       "      <td>99.989998</td>\n",
       "      <td>98.459999</td>\n",
       "      <td>99.650002</td>\n",
       "      <td>96.280899</td>\n",
       "      <td>26601400</td>\n",
       "    </tr>\n",
       "    <tr>\n",
       "      <th>2016-06-10</th>\n",
       "      <td>98.529999</td>\n",
       "      <td>99.349998</td>\n",
       "      <td>98.480003</td>\n",
       "      <td>98.830002</td>\n",
       "      <td>95.488617</td>\n",
       "      <td>31712900</td>\n",
       "    </tr>\n",
       "    <tr>\n",
       "      <th>2016-06-11</th>\n",
       "      <td>98.529999</td>\n",
       "      <td>99.349998</td>\n",
       "      <td>98.480003</td>\n",
       "      <td>98.830002</td>\n",
       "      <td>95.488617</td>\n",
       "      <td>31712900</td>\n",
       "    </tr>\n",
       "    <tr>\n",
       "      <th>2016-06-12</th>\n",
       "      <td>98.529999</td>\n",
       "      <td>99.349998</td>\n",
       "      <td>98.480003</td>\n",
       "      <td>98.830002</td>\n",
       "      <td>95.488617</td>\n",
       "      <td>31712900</td>\n",
       "    </tr>\n",
       "    <tr>\n",
       "      <th>2016-06-13</th>\n",
       "      <td>98.690002</td>\n",
       "      <td>99.120003</td>\n",
       "      <td>97.099998</td>\n",
       "      <td>97.339996</td>\n",
       "      <td>94.048996</td>\n",
       "      <td>38020500</td>\n",
       "    </tr>\n",
       "    <tr>\n",
       "      <th>2016-06-14</th>\n",
       "      <td>97.320000</td>\n",
       "      <td>98.480003</td>\n",
       "      <td>96.750000</td>\n",
       "      <td>97.459999</td>\n",
       "      <td>94.164932</td>\n",
       "      <td>31931900</td>\n",
       "    </tr>\n",
       "    <tr>\n",
       "      <th>2016-06-15</th>\n",
       "      <td>97.820000</td>\n",
       "      <td>98.410004</td>\n",
       "      <td>97.029999</td>\n",
       "      <td>97.139999</td>\n",
       "      <td>93.855766</td>\n",
       "      <td>29445200</td>\n",
       "    </tr>\n",
       "    <tr>\n",
       "      <th>2016-06-16</th>\n",
       "      <td>96.449997</td>\n",
       "      <td>97.750000</td>\n",
       "      <td>96.070000</td>\n",
       "      <td>97.550003</td>\n",
       "      <td>94.251892</td>\n",
       "      <td>31326800</td>\n",
       "    </tr>\n",
       "    <tr>\n",
       "      <th>2016-06-17</th>\n",
       "      <td>96.620003</td>\n",
       "      <td>96.650002</td>\n",
       "      <td>95.300003</td>\n",
       "      <td>95.330002</td>\n",
       "      <td>92.106941</td>\n",
       "      <td>61008200</td>\n",
       "    </tr>\n",
       "    <tr>\n",
       "      <th>2016-06-18</th>\n",
       "      <td>96.620003</td>\n",
       "      <td>96.650002</td>\n",
       "      <td>95.300003</td>\n",
       "      <td>95.330002</td>\n",
       "      <td>92.106941</td>\n",
       "      <td>61008200</td>\n",
       "    </tr>\n",
       "    <tr>\n",
       "      <th>2016-06-19</th>\n",
       "      <td>96.620003</td>\n",
       "      <td>96.650002</td>\n",
       "      <td>95.300003</td>\n",
       "      <td>95.330002</td>\n",
       "      <td>92.106941</td>\n",
       "      <td>61008200</td>\n",
       "    </tr>\n",
       "    <tr>\n",
       "      <th>2016-06-20</th>\n",
       "      <td>96.000000</td>\n",
       "      <td>96.570000</td>\n",
       "      <td>95.029999</td>\n",
       "      <td>95.099998</td>\n",
       "      <td>91.884720</td>\n",
       "      <td>34411900</td>\n",
       "    </tr>\n",
       "  </tbody>\n",
       "</table>\n",
       "</div>"
      ],
      "text/plain": [
       "                 Open        High        Low      Close  Adj Close    Volume\n",
       "2016-06-06  97.989998  101.889999  97.550003  98.629997  95.295364  23292500\n",
       "2016-06-07  99.250000   99.870003  98.959999  99.029999  95.681847  22409500\n",
       "2016-06-08  99.019997   99.559998  98.680000  98.940002  95.594902  20848100\n",
       "2016-06-09  98.500000   99.989998  98.459999  99.650002  96.280899  26601400\n",
       "2016-06-10  98.529999   99.349998  98.480003  98.830002  95.488617  31712900\n",
       "2016-06-11  98.529999   99.349998  98.480003  98.830002  95.488617  31712900\n",
       "2016-06-12  98.529999   99.349998  98.480003  98.830002  95.488617  31712900\n",
       "2016-06-13  98.690002   99.120003  97.099998  97.339996  94.048996  38020500\n",
       "2016-06-14  97.320000   98.480003  96.750000  97.459999  94.164932  31931900\n",
       "2016-06-15  97.820000   98.410004  97.029999  97.139999  93.855766  29445200\n",
       "2016-06-16  96.449997   97.750000  96.070000  97.550003  94.251892  31326800\n",
       "2016-06-17  96.620003   96.650002  95.300003  95.330002  92.106941  61008200\n",
       "2016-06-18  96.620003   96.650002  95.300003  95.330002  92.106941  61008200\n",
       "2016-06-19  96.620003   96.650002  95.300003  95.330002  92.106941  61008200\n",
       "2016-06-20  96.000000   96.570000  95.029999  95.099998  91.884720  34411900"
      ]
     },
     "execution_count": 107,
     "metadata": {},
     "output_type": "execute_result"
    }
   ],
   "source": [
    "# setting method to \"forward fill\"- ffill \n",
    "data.asfreq('D', method = 'ffill')[:15]"
   ]
  },
  {
   "cell_type": "code",
   "execution_count": 109,
   "metadata": {},
   "outputs": [
    {
     "data": {
      "text/plain": [
       "503"
      ]
     },
     "execution_count": 109,
     "metadata": {},
     "output_type": "execute_result"
    }
   ],
   "source": [
    "import numpy as np\n",
    "values = np.random.randint(1,10,len(rng))\n",
    "len(values)"
   ]
  },
  {
   "cell_type": "code",
   "execution_count": 116,
   "metadata": {},
   "outputs": [
    {
     "name": "stdout",
     "output_type": "stream",
     "text": [
      "2016-06-06    5\n",
      "2016-06-07    9\n",
      "2016-06-08    3\n",
      "2016-06-09    2\n",
      "2016-06-10    7\n",
      "2016-06-13    4\n",
      "2016-06-14    2\n",
      "2016-06-15    3\n",
      "2016-06-16    3\n",
      "2016-06-17    2\n",
      "2016-06-20    4\n",
      "2016-06-21    1\n",
      "2016-06-22    6\n",
      "2016-06-23    2\n",
      "2016-06-24    9\n",
      "Freq: B, dtype: int64\n",
      "Value at date \"2016-06-20\" is:  4\n"
     ]
    }
   ],
   "source": [
    "# creating a custom time-series\n",
    "ts = pd.Series(values, index = rng)\n",
    "print(ts[:15])\n",
    "print('Value at date \"2016-06-20\" is: ',ts['2016-06-20'])"
   ]
  },
  {
   "cell_type": "markdown",
   "metadata": {},
   "source": [
    "## Handling Holidays with pandas holiday and custom calendar \n"
   ]
  },
  {
   "cell_type": "code",
   "execution_count": 121,
   "metadata": {},
   "outputs": [
    {
     "data": {
      "text/plain": [
       "DatetimeIndex(['2018-07-02', '2018-07-03', '2018-07-04', '2018-07-05',\n",
       "               '2018-07-06', '2018-07-09', '2018-07-10', '2018-07-11',\n",
       "               '2018-07-12', '2018-07-13'],\n",
       "              dtype='datetime64[ns]', freq='B')"
      ]
     },
     "execution_count": 121,
     "metadata": {},
     "output_type": "execute_result"
    }
   ],
   "source": [
    "dummy_rng = pd.date_range(start = '1st july, 2018', end = '27th july, 2018' , freq = 'B')\n",
    "dummy_rng[:10]"
   ]
  },
  {
   "cell_type": "code",
   "execution_count": 126,
   "metadata": {},
   "outputs": [],
   "source": [
    "# Note that 4th july is a holiday, but it is not incorporated in the default pandas \n",
    "# date_range, so we need to specifically add the holidays in our data set\n",
    "\n",
    "from pandas.tseries.holiday import USFederalHolidayCalendar as ufc\n",
    "from pandas.tseries.offsets import CustomBusinessDay as cbd"
   ]
  },
  {
   "cell_type": "code",
   "execution_count": 128,
   "metadata": {},
   "outputs": [
    {
     "data": {
      "text/plain": [
       "<CustomBusinessDay>"
      ]
     },
     "execution_count": 128,
     "metadata": {},
     "output_type": "execute_result"
    }
   ],
   "source": [
    "Cust_BsDay = cbd(calendar = ufc())\n",
    "Cust_BsDay"
   ]
  },
  {
   "cell_type": "code",
   "execution_count": 129,
   "metadata": {},
   "outputs": [
    {
     "data": {
      "text/plain": [
       "DatetimeIndex(['2018-07-02', '2018-07-03', '2018-07-05', '2018-07-06',\n",
       "               '2018-07-09', '2018-07-10', '2018-07-11', '2018-07-12',\n",
       "               '2018-07-13', '2018-07-16'],\n",
       "              dtype='datetime64[ns]', freq='C')"
      ]
     },
     "execution_count": 129,
     "metadata": {},
     "output_type": "execute_result"
    }
   ],
   "source": [
    "dummy_rng = pd.date_range(start = '1st july, 2018', end = '27th july, 2018' , freq = Cust_BsDay)\n",
    "dummy_rng[:10]\n",
    "## Note that now 4th july is taken into account as a public holiday"
   ]
  },
  {
   "cell_type": "code",
   "execution_count": 130,
   "metadata": {},
   "outputs": [
    {
     "data": {
      "text/plain": [
       "19"
      ]
     },
     "execution_count": 130,
     "metadata": {},
     "output_type": "execute_result"
    }
   ],
   "source": [
    "len(dummy_rng)"
   ]
  },
  {
   "cell_type": "markdown",
   "metadata": {},
   "source": [
    "### Source code of pandas.tseries.holiday\n",
    "https://github.com/pandas-dev/pandas/blob/master/pandas/tseries/holiday.py"
   ]
  },
  {
   "cell_type": "code",
   "execution_count": 145,
   "metadata": {},
   "outputs": [
    {
     "data": {
      "text/plain": [
       "<CustomBusinessDay>"
      ]
     },
     "execution_count": 145,
     "metadata": {},
     "output_type": "execute_result"
    }
   ],
   "source": [
    "## Creating a custom calender\n",
    "from pandas.tseries.holiday import AbstractHolidayCalendar, nearest_workday, Holiday\n",
    "class MyBdayCalendar(AbstractHolidayCalendar):\n",
    "    \"\"\"\n",
    "      The following class contains a custom calendar...\n",
    "    \"\"\"\n",
    "    rules = [\n",
    "        Holiday('Depu \\'s bday', month=7, day=27, observance=nearest_workday)\n",
    "    ]\n",
    "    \n",
    "my_calendar = cbd(calendar = MyBdayCalendar())\n",
    "my_calendar\n",
    "        "
   ]
  },
  {
   "cell_type": "code",
   "execution_count": 146,
   "metadata": {},
   "outputs": [
    {
     "data": {
      "text/plain": [
       "DatetimeIndex(['2018-07-30', '2018-07-26', '2018-07-25', '2018-07-24',\n",
       "               '2018-07-23', '2018-07-20', '2018-07-19', '2018-07-18',\n",
       "               '2018-07-17'],\n",
       "              dtype='datetime64[ns]', freq='-1C')"
      ]
     },
     "execution_count": 146,
     "metadata": {},
     "output_type": "execute_result"
    }
   ],
   "source": [
    "dummy_rng = pd.date_range(start = '1st july, 2018', end = '30th july, 2018' , freq = my_calendar)\n",
    "dummy_rng[:10:-1]\n",
    "\n",
    "# We can notice that it is taking into account 27th july as a holiday"
   ]
  },
  {
   "cell_type": "code",
   "execution_count": 149,
   "metadata": {},
   "outputs": [
    {
     "data": {
      "text/plain": [
       "DatetimeIndex(['2018-07-01', '2018-07-02', '2018-07-04', '2018-07-05',\n",
       "               '2018-07-08', '2018-07-09', '2018-07-10', '2018-07-11',\n",
       "               '2018-07-12', '2018-07-15', '2018-07-16', '2018-07-17',\n",
       "               '2018-07-18', '2018-07-19', '2018-07-22', '2018-07-23',\n",
       "               '2018-07-24', '2018-07-25', '2018-07-26', '2018-07-29',\n",
       "               '2018-07-30'],\n",
       "              dtype='datetime64[ns]', freq='C')"
      ]
     },
     "execution_count": 149,
     "metadata": {},
     "output_type": "execute_result"
    }
   ],
   "source": [
    "# custom business day for country like Egypt where the weekends is on Fri & Sat\n",
    "# weekmask and holidays are the parameters that we need to tune to create a custom holiday\n",
    "egypt_business_days = cbd(weekmask = 'Sun Mon Tue Wed Thu', holidays = ['2018-07-03'])\n",
    "dummy_rng = pd.date_range(start = '1st july, 2018', end = '30th july, 2018' , freq = egypt_business_days)\n",
    "dummy_rng\n"
   ]
  },
  {
   "cell_type": "markdown",
   "metadata": {},
   "source": [
    "## Date time "
   ]
  },
  {
   "cell_type": "code",
   "execution_count": 150,
   "metadata": {},
   "outputs": [],
   "source": [
    "dates = ['2017-01-05', 'Jan 5, 2017', '01/05/2017', '2017.01.05', '20170105']"
   ]
  },
  {
   "cell_type": "code",
   "execution_count": 152,
   "metadata": {},
   "outputs": [
    {
     "data": {
      "text/plain": [
       "DatetimeIndex(['2017-01-05', '2017-01-05', '2017-01-05', '2017-01-05',\n",
       "               '2017-01-05'],\n",
       "              dtype='datetime64[ns]', freq=None)"
      ]
     },
     "execution_count": 152,
     "metadata": {},
     "output_type": "execute_result"
    }
   ],
   "source": [
    "# We can convert the above multiple representation of datetime in a single format\n",
    "# using the to_datetime funtion in pandas\n",
    "pd.to_datetime(dates)\n"
   ]
  },
  {
   "cell_type": "code",
   "execution_count": 154,
   "metadata": {},
   "outputs": [
    {
     "data": {
      "text/plain": [
       "Timestamp('2017-01-05 00:00:00')"
      ]
     },
     "execution_count": 154,
     "metadata": {},
     "output_type": "execute_result"
    }
   ],
   "source": [
    "# To handle the european date i.e dd-mm-yyyy\n",
    "pd.to_datetime('5-1-2017', dayfirst= True)\n"
   ]
  },
  {
   "cell_type": "code",
   "execution_count": 157,
   "metadata": {},
   "outputs": [
    {
     "data": {
      "text/plain": [
       "Timestamp('2017-01-05 00:00:00')"
      ]
     },
     "execution_count": 157,
     "metadata": {},
     "output_type": "execute_result"
    }
   ],
   "source": [
    "# To handke custom date string\n",
    "pd.to_datetime('5$1$2017', format = '%d$%m$%Y')"
   ]
  },
  {
   "cell_type": "code",
   "execution_count": 158,
   "metadata": {},
   "outputs": [
    {
     "ename": "ValueError",
     "evalue": "Unknown string format",
     "output_type": "error",
     "traceback": [
      "\u001b[0;31m---------------------------------------------------------------------------\u001b[0m",
      "\u001b[0;31mTypeError\u001b[0m                                 Traceback (most recent call last)",
      "\u001b[0;32m/anaconda3/lib/python3.6/site-packages/pandas/core/tools/datetimes.py\u001b[0m in \u001b[0;36m_convert_listlike\u001b[0;34m(arg, box, format, name, tz)\u001b[0m\n\u001b[1;32m    302\u001b[0m             \u001b[0;32mtry\u001b[0m\u001b[0;34m:\u001b[0m\u001b[0;34m\u001b[0m\u001b[0m\n\u001b[0;32m--> 303\u001b[0;31m                 \u001b[0mvalues\u001b[0m\u001b[0;34m,\u001b[0m \u001b[0mtz\u001b[0m \u001b[0;34m=\u001b[0m \u001b[0mtslib\u001b[0m\u001b[0;34m.\u001b[0m\u001b[0mdatetime_to_datetime64\u001b[0m\u001b[0;34m(\u001b[0m\u001b[0marg\u001b[0m\u001b[0;34m)\u001b[0m\u001b[0;34m\u001b[0m\u001b[0m\n\u001b[0m\u001b[1;32m    304\u001b[0m                 \u001b[0;32mreturn\u001b[0m \u001b[0mDatetimeIndex\u001b[0m\u001b[0;34m.\u001b[0m\u001b[0m_simple_new\u001b[0m\u001b[0;34m(\u001b[0m\u001b[0mvalues\u001b[0m\u001b[0;34m,\u001b[0m \u001b[0mname\u001b[0m\u001b[0;34m=\u001b[0m\u001b[0mname\u001b[0m\u001b[0;34m,\u001b[0m \u001b[0mtz\u001b[0m\u001b[0;34m=\u001b[0m\u001b[0mtz\u001b[0m\u001b[0;34m)\u001b[0m\u001b[0;34m\u001b[0m\u001b[0m\n",
      "\u001b[0;32mpandas/_libs/tslib.pyx\u001b[0m in \u001b[0;36mpandas._libs.tslib.datetime_to_datetime64\u001b[0;34m()\u001b[0m\n",
      "\u001b[0;31mTypeError\u001b[0m: Unrecognized value type: <class 'str'>",
      "\nDuring handling of the above exception, another exception occurred:\n",
      "\u001b[0;31mValueError\u001b[0m                                Traceback (most recent call last)",
      "\u001b[0;32m<ipython-input-158-68c1fba67f69>\u001b[0m in \u001b[0;36m<module>\u001b[0;34m()\u001b[0m\n\u001b[1;32m      1\u001b[0m \u001b[0mdates\u001b[0m \u001b[0;34m=\u001b[0m \u001b[0;34m[\u001b[0m\u001b[0;34m'2017-01-03'\u001b[0m\u001b[0;34m,\u001b[0m \u001b[0;34m'abc'\u001b[0m\u001b[0;34m,\u001b[0m \u001b[0;34m'03-01-2017'\u001b[0m\u001b[0;34m]\u001b[0m\u001b[0;34m\u001b[0m\u001b[0m\n\u001b[0;32m----> 2\u001b[0;31m \u001b[0mErrors\u001b[0m \u001b[0;34m=\u001b[0m \u001b[0mpd\u001b[0m\u001b[0;34m.\u001b[0m\u001b[0mto_datetime\u001b[0m\u001b[0;34m(\u001b[0m\u001b[0mdates\u001b[0m\u001b[0;34m,\u001b[0m \u001b[0merrors\u001b[0m \u001b[0;34m=\u001b[0m \u001b[0;34m'raise'\u001b[0m\u001b[0;34m)\u001b[0m\u001b[0;34m\u001b[0m\u001b[0m\n\u001b[0m",
      "\u001b[0;32m/anaconda3/lib/python3.6/site-packages/pandas/core/tools/datetimes.py\u001b[0m in \u001b[0;36mto_datetime\u001b[0;34m(arg, errors, dayfirst, yearfirst, utc, box, format, exact, unit, infer_datetime_format, origin)\u001b[0m\n\u001b[1;32m    378\u001b[0m         \u001b[0mresult\u001b[0m \u001b[0;34m=\u001b[0m \u001b[0m_convert_listlike\u001b[0m\u001b[0;34m(\u001b[0m\u001b[0marg\u001b[0m\u001b[0;34m,\u001b[0m \u001b[0mbox\u001b[0m\u001b[0;34m,\u001b[0m \u001b[0mformat\u001b[0m\u001b[0;34m,\u001b[0m \u001b[0mname\u001b[0m\u001b[0;34m=\u001b[0m\u001b[0marg\u001b[0m\u001b[0;34m.\u001b[0m\u001b[0mname\u001b[0m\u001b[0;34m)\u001b[0m\u001b[0;34m\u001b[0m\u001b[0m\n\u001b[1;32m    379\u001b[0m     \u001b[0;32melif\u001b[0m \u001b[0mis_list_like\u001b[0m\u001b[0;34m(\u001b[0m\u001b[0marg\u001b[0m\u001b[0;34m)\u001b[0m\u001b[0;34m:\u001b[0m\u001b[0;34m\u001b[0m\u001b[0m\n\u001b[0;32m--> 380\u001b[0;31m         \u001b[0mresult\u001b[0m \u001b[0;34m=\u001b[0m \u001b[0m_convert_listlike\u001b[0m\u001b[0;34m(\u001b[0m\u001b[0marg\u001b[0m\u001b[0;34m,\u001b[0m \u001b[0mbox\u001b[0m\u001b[0;34m,\u001b[0m \u001b[0mformat\u001b[0m\u001b[0;34m)\u001b[0m\u001b[0;34m\u001b[0m\u001b[0m\n\u001b[0m\u001b[1;32m    381\u001b[0m     \u001b[0;32melse\u001b[0m\u001b[0;34m:\u001b[0m\u001b[0;34m\u001b[0m\u001b[0m\n\u001b[1;32m    382\u001b[0m         \u001b[0mresult\u001b[0m \u001b[0;34m=\u001b[0m \u001b[0m_convert_listlike\u001b[0m\u001b[0;34m(\u001b[0m\u001b[0mnp\u001b[0m\u001b[0;34m.\u001b[0m\u001b[0marray\u001b[0m\u001b[0;34m(\u001b[0m\u001b[0;34m[\u001b[0m\u001b[0marg\u001b[0m\u001b[0;34m]\u001b[0m\u001b[0;34m)\u001b[0m\u001b[0;34m,\u001b[0m \u001b[0mbox\u001b[0m\u001b[0;34m,\u001b[0m \u001b[0mformat\u001b[0m\u001b[0;34m)\u001b[0m\u001b[0;34m[\u001b[0m\u001b[0;36m0\u001b[0m\u001b[0;34m]\u001b[0m\u001b[0;34m\u001b[0m\u001b[0m\n",
      "\u001b[0;32m/anaconda3/lib/python3.6/site-packages/pandas/core/tools/datetimes.py\u001b[0m in \u001b[0;36m_convert_listlike\u001b[0;34m(arg, box, format, name, tz)\u001b[0m\n\u001b[1;32m    304\u001b[0m                 \u001b[0;32mreturn\u001b[0m \u001b[0mDatetimeIndex\u001b[0m\u001b[0;34m.\u001b[0m\u001b[0m_simple_new\u001b[0m\u001b[0;34m(\u001b[0m\u001b[0mvalues\u001b[0m\u001b[0;34m,\u001b[0m \u001b[0mname\u001b[0m\u001b[0;34m=\u001b[0m\u001b[0mname\u001b[0m\u001b[0;34m,\u001b[0m \u001b[0mtz\u001b[0m\u001b[0;34m=\u001b[0m\u001b[0mtz\u001b[0m\u001b[0;34m)\u001b[0m\u001b[0;34m\u001b[0m\u001b[0m\n\u001b[1;32m    305\u001b[0m             \u001b[0;32mexcept\u001b[0m \u001b[0;34m(\u001b[0m\u001b[0mValueError\u001b[0m\u001b[0;34m,\u001b[0m \u001b[0mTypeError\u001b[0m\u001b[0;34m)\u001b[0m\u001b[0;34m:\u001b[0m\u001b[0;34m\u001b[0m\u001b[0m\n\u001b[0;32m--> 306\u001b[0;31m                 \u001b[0;32mraise\u001b[0m \u001b[0me\u001b[0m\u001b[0;34m\u001b[0m\u001b[0m\n\u001b[0m\u001b[1;32m    307\u001b[0m \u001b[0;34m\u001b[0m\u001b[0m\n\u001b[1;32m    308\u001b[0m     \u001b[0;32mif\u001b[0m \u001b[0marg\u001b[0m \u001b[0;32mis\u001b[0m \u001b[0;32mNone\u001b[0m\u001b[0;34m:\u001b[0m\u001b[0;34m\u001b[0m\u001b[0m\n",
      "\u001b[0;32m/anaconda3/lib/python3.6/site-packages/pandas/core/tools/datetimes.py\u001b[0m in \u001b[0;36m_convert_listlike\u001b[0;34m(arg, box, format, name, tz)\u001b[0m\n\u001b[1;32m    292\u001b[0m                     \u001b[0mdayfirst\u001b[0m\u001b[0;34m=\u001b[0m\u001b[0mdayfirst\u001b[0m\u001b[0;34m,\u001b[0m\u001b[0;34m\u001b[0m\u001b[0m\n\u001b[1;32m    293\u001b[0m                     \u001b[0myearfirst\u001b[0m\u001b[0;34m=\u001b[0m\u001b[0myearfirst\u001b[0m\u001b[0;34m,\u001b[0m\u001b[0;34m\u001b[0m\u001b[0m\n\u001b[0;32m--> 294\u001b[0;31m                     \u001b[0mrequire_iso8601\u001b[0m\u001b[0;34m=\u001b[0m\u001b[0mrequire_iso8601\u001b[0m\u001b[0;34m\u001b[0m\u001b[0m\n\u001b[0m\u001b[1;32m    295\u001b[0m                 )\n\u001b[1;32m    296\u001b[0m \u001b[0;34m\u001b[0m\u001b[0m\n",
      "\u001b[0;32mpandas/_libs/tslib.pyx\u001b[0m in \u001b[0;36mpandas._libs.tslib.array_to_datetime\u001b[0;34m()\u001b[0m\n",
      "\u001b[0;32mpandas/_libs/tslib.pyx\u001b[0m in \u001b[0;36mpandas._libs.tslib.array_to_datetime\u001b[0;34m()\u001b[0m\n",
      "\u001b[0;32mpandas/_libs/tslib.pyx\u001b[0m in \u001b[0;36mpandas._libs.tslib.array_to_datetime\u001b[0;34m()\u001b[0m\n",
      "\u001b[0;32mpandas/_libs/tslibs/parsing.pyx\u001b[0m in \u001b[0;36mpandas._libs.tslibs.parsing.parse_datetime_string\u001b[0;34m()\u001b[0m\n",
      "\u001b[0;32m/anaconda3/lib/python3.6/site-packages/dateutil/parser.py\u001b[0m in \u001b[0;36mparse\u001b[0;34m(timestr, parserinfo, **kwargs)\u001b[0m\n\u001b[1;32m   1180\u001b[0m         \u001b[0;32mreturn\u001b[0m \u001b[0mparser\u001b[0m\u001b[0;34m(\u001b[0m\u001b[0mparserinfo\u001b[0m\u001b[0;34m)\u001b[0m\u001b[0;34m.\u001b[0m\u001b[0mparse\u001b[0m\u001b[0;34m(\u001b[0m\u001b[0mtimestr\u001b[0m\u001b[0;34m,\u001b[0m \u001b[0;34m**\u001b[0m\u001b[0mkwargs\u001b[0m\u001b[0;34m)\u001b[0m\u001b[0;34m\u001b[0m\u001b[0m\n\u001b[1;32m   1181\u001b[0m     \u001b[0;32melse\u001b[0m\u001b[0;34m:\u001b[0m\u001b[0;34m\u001b[0m\u001b[0m\n\u001b[0;32m-> 1182\u001b[0;31m         \u001b[0;32mreturn\u001b[0m \u001b[0mDEFAULTPARSER\u001b[0m\u001b[0;34m.\u001b[0m\u001b[0mparse\u001b[0m\u001b[0;34m(\u001b[0m\u001b[0mtimestr\u001b[0m\u001b[0;34m,\u001b[0m \u001b[0;34m**\u001b[0m\u001b[0mkwargs\u001b[0m\u001b[0;34m)\u001b[0m\u001b[0;34m\u001b[0m\u001b[0m\n\u001b[0m\u001b[1;32m   1183\u001b[0m \u001b[0;34m\u001b[0m\u001b[0m\n\u001b[1;32m   1184\u001b[0m \u001b[0;34m\u001b[0m\u001b[0m\n",
      "\u001b[0;32m/anaconda3/lib/python3.6/site-packages/dateutil/parser.py\u001b[0m in \u001b[0;36mparse\u001b[0;34m(self, timestr, default, ignoretz, tzinfos, **kwargs)\u001b[0m\n\u001b[1;32m    557\u001b[0m \u001b[0;34m\u001b[0m\u001b[0m\n\u001b[1;32m    558\u001b[0m         \u001b[0;32mif\u001b[0m \u001b[0mres\u001b[0m \u001b[0;32mis\u001b[0m \u001b[0;32mNone\u001b[0m\u001b[0;34m:\u001b[0m\u001b[0;34m\u001b[0m\u001b[0m\n\u001b[0;32m--> 559\u001b[0;31m             \u001b[0;32mraise\u001b[0m \u001b[0mValueError\u001b[0m\u001b[0;34m(\u001b[0m\u001b[0;34m\"Unknown string format\"\u001b[0m\u001b[0;34m)\u001b[0m\u001b[0;34m\u001b[0m\u001b[0m\n\u001b[0m\u001b[1;32m    560\u001b[0m \u001b[0;34m\u001b[0m\u001b[0m\n\u001b[1;32m    561\u001b[0m         \u001b[0;32mif\u001b[0m \u001b[0mlen\u001b[0m\u001b[0;34m(\u001b[0m\u001b[0mres\u001b[0m\u001b[0;34m)\u001b[0m \u001b[0;34m==\u001b[0m \u001b[0;36m0\u001b[0m\u001b[0;34m:\u001b[0m\u001b[0;34m\u001b[0m\u001b[0m\n",
      "\u001b[0;31mValueError\u001b[0m: Unknown string format"
     ]
    }
   ],
   "source": [
    "dates = ['2017-01-03', 'abc', '03-01-2017']\n",
    "dt = pd.to_datetime(dates, errors = 'raise')\n",
    "dt\n",
    "# We see that pandas will throw an error as follows"
   ]
  },
  {
   "cell_type": "code",
   "execution_count": 160,
   "metadata": {},
   "outputs": [
    {
     "data": {
      "text/plain": [
       "array(['2017-01-03', 'abc', '03-01-2017'], dtype=object)"
      ]
     },
     "execution_count": 160,
     "metadata": {},
     "output_type": "execute_result"
    }
   ],
   "source": [
    "#  the errors are ignored\n",
    "dates = ['2017-01-03', 'abc', '03-01-2017']\n",
    "dt = pd.to_datetime(dates, errors = 'ignore')\n",
    "dt"
   ]
  },
  {
   "cell_type": "code",
   "execution_count": 161,
   "metadata": {},
   "outputs": [
    {
     "data": {
      "text/plain": [
       "DatetimeIndex(['2017-01-03', 'NaT', '2017-03-01'], dtype='datetime64[ns]', freq=None)"
      ]
     },
     "execution_count": 161,
     "metadata": {},
     "output_type": "execute_result"
    }
   ],
   "source": [
    "# the error is supressed to not a datetime\n",
    "dates = ['2017-01-03', 'abc', '03-01-2017']\n",
    "dt = pd.to_datetime(dates, errors = 'coerce')\n",
    "dt"
   ]
  },
  {
   "cell_type": "code",
   "execution_count": 163,
   "metadata": {},
   "outputs": [
    {
     "data": {
      "text/plain": [
       "DatetimeIndex(['2017-07-29 19:32:29'], dtype='datetime64[ns]', freq=None)"
      ]
     },
     "execution_count": 163,
     "metadata": {},
     "output_type": "execute_result"
    }
   ],
   "source": [
    "# dealing with unix epoch time\n",
    "t = 1501356749  # unix epoch version of 07/29/2017\n",
    "dt = pd.to_datetime([t], unit = 's')  # note that the unit = sec and not nano-sec\n",
    "dt"
   ]
  },
  {
   "cell_type": "code",
   "execution_count": 164,
   "metadata": {},
   "outputs": [
    {
     "data": {
      "text/plain": [
       "array([1501356749000000000])"
      ]
     },
     "execution_count": 164,
     "metadata": {},
     "output_type": "execute_result"
    }
   ],
   "source": [
    "dt.view('int64') # back to epoch"
   ]
  },
  {
   "cell_type": "markdown",
   "metadata": {},
   "source": [
    "## TimeStamp, Period & Period Index"
   ]
  },
  {
   "cell_type": "code",
   "execution_count": 165,
   "metadata": {},
   "outputs": [
    {
     "data": {
      "text/plain": [
       "Period('2018', 'A-DEC')"
      ]
     },
     "execution_count": 165,
     "metadata": {},
     "output_type": "execute_result"
    }
   ],
   "source": [
    "year = pd.Period('2018')\n",
    "year"
   ]
  },
  {
   "cell_type": "code",
   "execution_count": 166,
   "metadata": {},
   "outputs": [
    {
     "data": {
      "text/plain": [
       "['__add__',\n",
       " '__class__',\n",
       " '__delattr__',\n",
       " '__dict__',\n",
       " '__dir__',\n",
       " '__doc__',\n",
       " '__eq__',\n",
       " '__format__',\n",
       " '__ge__',\n",
       " '__getattribute__',\n",
       " '__gt__',\n",
       " '__hash__',\n",
       " '__init__',\n",
       " '__init_subclass__',\n",
       " '__le__',\n",
       " '__lt__',\n",
       " '__module__',\n",
       " '__ne__',\n",
       " '__new__',\n",
       " '__radd__',\n",
       " '__reduce__',\n",
       " '__reduce_ex__',\n",
       " '__repr__',\n",
       " '__rsub__',\n",
       " '__setattr__',\n",
       " '__setstate__',\n",
       " '__sizeof__',\n",
       " '__str__',\n",
       " '__sub__',\n",
       " '__subclasshook__',\n",
       " '__unicode__',\n",
       " '__weakref__',\n",
       " '_add_delta',\n",
       " '_comparables',\n",
       " '_from_ordinal',\n",
       " '_maybe_convert_freq',\n",
       " '_typ',\n",
       " 'asfreq',\n",
       " 'day',\n",
       " 'dayofweek',\n",
       " 'dayofyear',\n",
       " 'days_in_month',\n",
       " 'daysinmonth',\n",
       " 'end_time',\n",
       " 'freq',\n",
       " 'freqstr',\n",
       " 'hour',\n",
       " 'is_leap_year',\n",
       " 'minute',\n",
       " 'month',\n",
       " 'now',\n",
       " 'ordinal',\n",
       " 'quarter',\n",
       " 'qyear',\n",
       " 'second',\n",
       " 'start_time',\n",
       " 'strftime',\n",
       " 'to_timestamp',\n",
       " 'week',\n",
       " 'weekday',\n",
       " 'weekofyear',\n",
       " 'year']"
      ]
     },
     "execution_count": 166,
     "metadata": {},
     "output_type": "execute_result"
    }
   ],
   "source": [
    "dir(year)"
   ]
  },
  {
   "cell_type": "code",
   "execution_count": 167,
   "metadata": {},
   "outputs": [
    {
     "data": {
      "text/plain": [
       "Timestamp('2018-01-01 00:00:00')"
      ]
     },
     "execution_count": 167,
     "metadata": {},
     "output_type": "execute_result"
    }
   ],
   "source": [
    "year.start_time"
   ]
  },
  {
   "cell_type": "code",
   "execution_count": 168,
   "metadata": {},
   "outputs": [
    {
     "data": {
      "text/plain": [
       "Timestamp('2018-12-31 23:59:59.999999999')"
      ]
     },
     "execution_count": 168,
     "metadata": {},
     "output_type": "execute_result"
    }
   ],
   "source": [
    "year.end_time"
   ]
  },
  {
   "cell_type": "code",
   "execution_count": 171,
   "metadata": {},
   "outputs": [],
   "source": [
    "month = pd.Period('2018-01', freq = 'M')"
   ]
  },
  {
   "cell_type": "code",
   "execution_count": 172,
   "metadata": {},
   "outputs": [
    {
     "data": {
      "text/plain": [
       "Timestamp('2018-01-01 00:00:00')"
      ]
     },
     "execution_count": 172,
     "metadata": {},
     "output_type": "execute_result"
    }
   ],
   "source": [
    "month.start_time"
   ]
  },
  {
   "cell_type": "code",
   "execution_count": 173,
   "metadata": {},
   "outputs": [
    {
     "data": {
      "text/plain": [
       "Timestamp('2018-01-31 23:59:59.999999999')"
      ]
     },
     "execution_count": 173,
     "metadata": {},
     "output_type": "execute_result"
    }
   ],
   "source": [
    "month.end_time"
   ]
  },
  {
   "cell_type": "code",
   "execution_count": 177,
   "metadata": {},
   "outputs": [
    {
     "data": {
      "text/plain": [
       "1"
      ]
     },
     "execution_count": 177,
     "metadata": {},
     "output_type": "execute_result"
    }
   ],
   "source": [
    "month.end_time.quarter  # as the end_time is 31st jan "
   ]
  },
  {
   "cell_type": "code",
   "execution_count": null,
   "metadata": {},
   "outputs": [],
   "source": []
  },
  {
   "cell_type": "code",
   "execution_count": null,
   "metadata": {},
   "outputs": [],
   "source": []
  }
 ],
 "metadata": {
  "kernelspec": {
   "display_name": "Python 3",
   "language": "python",
   "name": "python3"
  },
  "language_info": {
   "codemirror_mode": {
    "name": "ipython",
    "version": 3
   },
   "file_extension": ".py",
   "mimetype": "text/x-python",
   "name": "python",
   "nbconvert_exporter": "python",
   "pygments_lexer": "ipython3",
   "version": "3.6.4"
  }
 },
 "nbformat": 4,
 "nbformat_minor": 2
}
